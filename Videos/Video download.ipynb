{
 "cells": [
  {
   "cell_type": "markdown",
   "metadata": {},
   "source": [
    "# Video download\n",
    "\n",
    "For various reasons you might want to view the videos offline; so they must be downloaded first. I did not try to download the CS109 2015 videos using this [script](https://github.com/christopher-beckham/cs109-dl-videos) because it requires the `rtmpdump` download which I find somewhat overkill for one time use. But of course you can give it a try.<br><br>\n",
    "Harvard CS109 2015 videos are all displayed using the [Paella player](https://paellaplayer.upv.es/), a multistream player for playing more video and audio streams at a time. Each video presentation as listed in [Class Material](http://cs109.github.io/2015/pages/videos.html) has two mp4 files:\n",
    "* **Presenter**. This video is focused on the lecturer and has, of course, audio.\n",
    "* **Presentation**. This video is the presentation, has no sound and in most cases can also be viewed in the slides on GitHub. However this presentation keeps pace with the presenter video.<br>\n",
    "\n",
    "So both types of mp4 files are equally long in playing time.\n"
   ]
  },
  {
   "cell_type": "markdown",
   "metadata": {},
   "source": [
    "### My download under Windows\n",
    "1. Start a Lab or Lecture video from Class Material.\n",
    "2. Once the video is started popup a menu by right mouse click and select View Page Info (see screenshot - *Pagina-info bekijken* in Dutch)\n",
    "![](ViewPageInfo.png)\n",
    "3. In the newly opened browser window select the Media tab \n",
    "4. Two mp4 files are displayed which successively should be saved (see screenshot - *Opslaan als...* in Dutch)\n",
    "![](SaveMP4inMedia.png)\n",
    "\n",
    "This way a total of 76 mp4 files can be downloaded. \n",
    "```shell\n",
    "$ du -a . | grep -i mp4 | wc -l\n",
    "76\n",
    "```"
   ]
  },
  {
   "cell_type": "markdown",
   "metadata": {},
   "source": [
    "### Remarks\n",
    "* The Lecture1 video could not be downloaded.\n",
    "* I did not download the captions versions, bit of course you're free to do so.\n",
    "* Approximate diskspace required for 76 videos:\n",
    "```shell\n",
    "$ df -k\n",
    "Filesystem           1K-blocks      Used Available Use% Mounted on\n",
    "C:/Program Files/Git 976130044 261460652 714669392  27% /\n",
    "```\n",
    "which is about 97 Gb"
   ]
  },
  {
   "cell_type": "code",
   "execution_count": null,
   "metadata": {},
   "outputs": [],
   "source": []
  }
 ],
 "metadata": {
  "kernelspec": {
   "display_name": "Python 3",
   "language": "python",
   "name": "python3"
  },
  "language_info": {
   "codemirror_mode": {
    "name": "ipython",
    "version": 3
   },
   "file_extension": ".py",
   "mimetype": "text/x-python",
   "name": "python",
   "nbconvert_exporter": "python",
   "pygments_lexer": "ipython3",
   "version": "3.8.3"
  }
 },
 "nbformat": 4,
 "nbformat_minor": 4
}
