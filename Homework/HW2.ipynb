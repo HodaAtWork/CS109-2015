{
 "cells": [
  {
   "cell_type": "markdown",
   "metadata": {},
   "source": [
    "# Homework 2: More Exploratory Data Analysis\n",
    "## Gene Expression Data and Election Polls \n",
    "\n",
    "Due: Thursday, October 2, 2014 11:59 PM\n",
    "\n",
    "<a href=https://raw.githubusercontent.com/cs109/2014/master/homework/HW2.ipynb download=HW2.ipynb> Download this assignment</a>\n",
    "\n",
    "#### Submission Instructions\n",
    "To submit your homework, create a folder named lastname_firstinitial_hw# and place your IPython notebooks, data files, and any other files in this folder. Your IPython Notebooks should be completely executed with the results visible in the notebook. We should not have to run any code. Compress the folder (please use .zip compression) and submit to the CS109 dropbox in the appropriate folder. If we cannot access your work because these directions are not followed correctly, we will not grade your work.\n",
    "\n",
    "\n",
    "---"
   ]
  },
  {
   "cell_type": "markdown",
   "metadata": {},
   "source": [
    "## Introduction\n",
    "\n",
    "John Tukey wrote in [Exploratory Data Analysis, 1977](http://www.amazon.com/Exploratory-Data-Analysis-Wilder-Tukey/dp/0201076160/ref=pd_bbs_sr_2/103-4466654-5303007?ie=UTF8&s=books&qid=1189739816&sr=8-2): \"The greatest value of a picture is when it forces us to notice what we never expected to see.\" In this assignment we will continue using our exploratory data analysis tools, but apply it to new sets of data: [gene expression](http://en.wikipedia.org/wiki/Gene_expression) and polls from the [2012 Presidental Election](http://en.wikipedia.org/wiki/United_States_presidential_election,_2012) and from the [2014 Senate Midterm Elections](http://en.wikipedia.org/wiki/United_States_Senate_elections,_2014).   \n",
    "\n",
    "**First**: You will use exploratory data analysis and apply the [singular value decomposition](http://en.wikipedia.org/wiki/Singular_value_decomposition) (SVD) to a gene expression data matrix to determine if the the date that the gene expression samples are processed has large effect on the variability seen in the data.  \n",
    "\n",
    "**Second**: You will use the polls from the 2012 Presidential Elections to determine (1) Is there a pollster bias in presidential election polls? and (2) Is the average of polls better than just one poll?\n",
    "\n",
    "**Finally**: You will use the [HuffPost Pollster API](http://elections.huffingtonpost.com/pollster/api) to extract the polls for the current 2014 Senate Midterm Elections and provide a preliminary prediction of the result of each state.\n",
    "\n",
    "#### Data\n",
    "\n",
    "We will use the following data sets: \n",
    "\n",
    "1. A gene expression data set called `exprs_GSE5859.csv` and sample annotation table called `sampleinfo_GSE5859.csv` which are both available on Github in the 2014_data repository: [expression data set](https://github.com/cs109/2014_data/blob/master/exprs_GSE5859.csv) and [sample annotation table](https://github.com/cs109/2014_data/blob/master/sampleinfo_GSE5859.csv).  \n",
    "\n",
    "2. Polls from the [2012 Presidential Election: Barack Obama vs Mitt Romney](http://elections.huffingtonpost.com/pollster/2012-general-election-romney-vs-obama). The polls we will use are from the [Huffington Post Pollster](http://elections.huffingtonpost.com/pollster).  \n",
    "\n",
    "3. Polls from the [2014 Senate Midterm Elections](http://elections.huffingtonpost.com/pollster) from the [HuffPost Pollster API](http://elections.huffingtonpost.com/pollster/api). \n",
    "\n",
    "---"
   ]
  },
  {
   "cell_type": "markdown",
   "metadata": {},
   "source": [
    "## Load Python modules"
   ]
  },
  {
   "cell_type": "code",
   "execution_count": 1,
   "metadata": {},
   "outputs": [],
   "source": [
    "# special IPython command to prepare the notebook for matplotlib\n",
    "%matplotlib inline \n",
    "\n",
    "import requests \n",
    "from io import StringIO\n",
    "import numpy as np\n",
    "import pandas as pd # pandas\n",
    "import matplotlib.pyplot as plt # module for plotting \n",
    "import datetime as dt # module for manipulating dates and times\n",
    "import numpy.linalg as lin # module for performing linear algebra operations\n",
    "import os\n",
    "from scipy.stats import binom"
   ]
  },
  {
   "cell_type": "markdown",
   "metadata": {},
   "source": [
    "## Problem 1\n",
    "\n",
    "In this problem we will be using a [gene expression](http://en.wikipedia.org/wiki/Gene_expression) data set obtained from a [microarray](http://en.wikipedia.org/wiki/DNA_microarray) experiement [Read more about the specific experiment here](http://www.ncbi.nlm.nih.gov/geo/query/acc.cgi?acc=GSE5859).  There are two data sets we will use:  \n",
    "\n",
    "1. The gene expression intensities where the rows represent the features on the microarray (e.g. genes) and the columsns represent the different microarray samples.  \n",
    "\n",
    "2. A table that contains the information about each of the samples (columns in the gene expression data set) such as the sex, the age, the treatment status, the date the samples were processed.  Each row represents one sample. "
   ]
  },
  {
   "cell_type": "markdown",
   "metadata": {},
   "source": [
    "#### Problem 1(a) \n",
    "Read in the two files from Github: [exprs_GSE5859.csv](https://github.com/cs109/2014_data/blob/master/exprs_GSE5859.csv) and [sampleinfo_GSE5859.csv](https://github.com/cs109/2014_data/blob/master/sampleinfo_GSE5859.csv) as pandas DataFrames called `exprs` and `sampleinfo`. Use the gene names as the index of the `exprs` DataFrame."
   ]
  },
  {
   "cell_type": "code",
   "execution_count": 2,
   "metadata": {},
   "outputs": [],
   "source": [
    "#your code here\n",
    "# Not requested but downloaded the files (raw GitHub versions)\n",
    "exprs_url = 'https://raw.githubusercontent.com/cs109/2014_data/master/exprs_GSE5859.csv'\n",
    "sampleinfo_url = 'https://raw.githubusercontent.com/cs109/2014_data/master/sampleinfo_GSE5859.csv'\n",
    "urlDict = {'exprs_GSE5859.csv' : exprs_url , 'sampleinfo_GSE5859.csv' : sampleinfo_url}\n",
    "if not os.path.exists('data'):\n",
    "    os.makedirs('data')\n",
    "for key, value in urlDict.items():\n",
    "    url_file = requests.get(value)\n",
    "    open('data/' + key, 'wb').write(url_file.content)\n",
    "    if key.split('_')[0] == 'exprs':\n",
    "        exprs = pd.read_csv('data/' + key, index_col = 0)\n",
    "    else:\n",
    "        sampleinfo = pd.read_csv('data/' + key)"
   ]
  },
  {
   "cell_type": "markdown",
   "metadata": {},
   "source": [
    "Make sure the order of the columns in the gene expression DataFrame match the order of file names in the sample annotation DataFrame. If the order of the columns the `exprs` DataFrame do not match the order of the file names in the `sampleinfo` DataFrame, reorder the columns in the `exprs` DataFrame. \n",
    "\n",
    "**Note**: The column names of the gene expression DataFrame are the filenames of the orignal files from which these data were obtained.  \n",
    "\n",
    "**Hint**: The method `list.index(x)` [[read here](https://docs.python.org/2/tutorial/datastructures.html)] can be used to return the index in the list of the first item whose value is x. It is an error if there is no such item. To check if the order of the columns in `exprs` matches the order of the rows in `sampleinfo`, you can check using the method `.all()` on a Boolean or list of Booleans: \n",
    "\n",
    "Example code: `(exprs.columns == sampleinfo.filename).all()`"
   ]
  },
  {
   "cell_type": "code",
   "execution_count": 3,
   "metadata": {},
   "outputs": [
    {
     "data": {
      "text/plain": [
       "False"
      ]
     },
     "execution_count": 3,
     "metadata": {},
     "output_type": "execute_result"
    }
   ],
   "source": [
    "#your code here\n",
    "(exprs.columns == sampleinfo.filename).all()"
   ]
  },
  {
   "cell_type": "markdown",
   "metadata": {},
   "source": [
    "Result of the check is `False`. Using reindex() the columns order of `exprs` is made identical to the filenames order in `sampleinfo`. See below."
   ]
  },
  {
   "cell_type": "code",
   "execution_count": 4,
   "metadata": {},
   "outputs": [
    {
     "data": {
      "text/plain": [
       "True"
      ]
     },
     "execution_count": 4,
     "metadata": {},
     "output_type": "execute_result"
    }
   ],
   "source": [
    "exprs = exprs.reindex(columns = sampleinfo.filename)\n",
    "(exprs.columns == sampleinfo.filename).all()"
   ]
  },
  {
   "cell_type": "markdown",
   "metadata": {},
   "source": [
    "Show the head of the two tables: `exprs` and `sampleinfo`. "
   ]
  },
  {
   "cell_type": "code",
   "execution_count": 5,
   "metadata": {},
   "outputs": [
    {
     "data": {
      "text/html": [
       "<div>\n",
       "<style scoped>\n",
       "    .dataframe tbody tr th:only-of-type {\n",
       "        vertical-align: middle;\n",
       "    }\n",
       "\n",
       "    .dataframe tbody tr th {\n",
       "        vertical-align: top;\n",
       "    }\n",
       "\n",
       "    .dataframe thead th {\n",
       "        text-align: right;\n",
       "    }\n",
       "</style>\n",
       "<table border=\"1\" class=\"dataframe\">\n",
       "  <thead>\n",
       "    <tr style=\"text-align: right;\">\n",
       "      <th>filename</th>\n",
       "      <th>GSM25349.CEL.gz</th>\n",
       "      <th>GSM25350.CEL.gz</th>\n",
       "      <th>GSM25356.CEL.gz</th>\n",
       "      <th>GSM25357.CEL.gz</th>\n",
       "      <th>GSM25358.CEL.gz</th>\n",
       "      <th>GSM25359.CEL.gz</th>\n",
       "      <th>GSM25360.CEL.gz</th>\n",
       "      <th>GSM25361.CEL.gz</th>\n",
       "      <th>GSM25377.CEL.gz</th>\n",
       "      <th>GSM25378.CEL.gz</th>\n",
       "      <th>...</th>\n",
       "      <th>GSM136719.CEL.gz</th>\n",
       "      <th>GSM136720.CEL.gz</th>\n",
       "      <th>GSM136721.CEL.gz</th>\n",
       "      <th>GSM136722.CEL.gz</th>\n",
       "      <th>GSM136723.CEL.gz</th>\n",
       "      <th>GSM136724.CEL.gz</th>\n",
       "      <th>GSM136725.CEL.gz</th>\n",
       "      <th>GSM136726.CEL.gz</th>\n",
       "      <th>GSM136727.CEL.gz</th>\n",
       "      <th>GSM136729.CEL.gz</th>\n",
       "    </tr>\n",
       "  </thead>\n",
       "  <tbody>\n",
       "    <tr>\n",
       "      <th>1007_s_at</th>\n",
       "      <td>6.627014</td>\n",
       "      <td>6.249807</td>\n",
       "      <td>5.934128</td>\n",
       "      <td>6.145268</td>\n",
       "      <td>6.091270</td>\n",
       "      <td>6.041186</td>\n",
       "      <td>6.050375</td>\n",
       "      <td>6.063847</td>\n",
       "      <td>6.226106</td>\n",
       "      <td>6.358282</td>\n",
       "      <td>...</td>\n",
       "      <td>6.466445</td>\n",
       "      <td>6.533592</td>\n",
       "      <td>6.631492</td>\n",
       "      <td>6.513362</td>\n",
       "      <td>6.440706</td>\n",
       "      <td>6.704324</td>\n",
       "      <td>6.488579</td>\n",
       "      <td>6.809481</td>\n",
       "      <td>6.133068</td>\n",
       "      <td>6.155473</td>\n",
       "    </tr>\n",
       "    <tr>\n",
       "      <th>1053_at</th>\n",
       "      <td>6.939184</td>\n",
       "      <td>6.818038</td>\n",
       "      <td>7.047962</td>\n",
       "      <td>7.422477</td>\n",
       "      <td>7.272361</td>\n",
       "      <td>7.128216</td>\n",
       "      <td>6.750719</td>\n",
       "      <td>6.836287</td>\n",
       "      <td>6.738022</td>\n",
       "      <td>7.367895</td>\n",
       "      <td>...</td>\n",
       "      <td>7.032885</td>\n",
       "      <td>7.156344</td>\n",
       "      <td>7.018025</td>\n",
       "      <td>6.973322</td>\n",
       "      <td>6.884738</td>\n",
       "      <td>7.120898</td>\n",
       "      <td>7.517410</td>\n",
       "      <td>7.200596</td>\n",
       "      <td>7.280781</td>\n",
       "      <td>7.111583</td>\n",
       "    </tr>\n",
       "    <tr>\n",
       "      <th>117_at</th>\n",
       "      <td>5.113570</td>\n",
       "      <td>5.074096</td>\n",
       "      <td>5.371201</td>\n",
       "      <td>5.266550</td>\n",
       "      <td>5.342047</td>\n",
       "      <td>5.063876</td>\n",
       "      <td>5.315898</td>\n",
       "      <td>5.483652</td>\n",
       "      <td>6.689444</td>\n",
       "      <td>6.482782</td>\n",
       "      <td>...</td>\n",
       "      <td>5.661112</td>\n",
       "      <td>5.127260</td>\n",
       "      <td>5.151840</td>\n",
       "      <td>5.505602</td>\n",
       "      <td>5.687689</td>\n",
       "      <td>4.942651</td>\n",
       "      <td>5.247190</td>\n",
       "      <td>5.237239</td>\n",
       "      <td>5.401876</td>\n",
       "      <td>5.302628</td>\n",
       "    </tr>\n",
       "    <tr>\n",
       "      <th>121_at</th>\n",
       "      <td>7.833862</td>\n",
       "      <td>7.780682</td>\n",
       "      <td>7.458197</td>\n",
       "      <td>7.655948</td>\n",
       "      <td>7.546555</td>\n",
       "      <td>7.072670</td>\n",
       "      <td>7.092984</td>\n",
       "      <td>6.954225</td>\n",
       "      <td>7.489785</td>\n",
       "      <td>7.388539</td>\n",
       "      <td>...</td>\n",
       "      <td>7.769734</td>\n",
       "      <td>7.815864</td>\n",
       "      <td>7.683279</td>\n",
       "      <td>7.883231</td>\n",
       "      <td>7.913621</td>\n",
       "      <td>7.834196</td>\n",
       "      <td>7.331864</td>\n",
       "      <td>7.357102</td>\n",
       "      <td>7.607461</td>\n",
       "      <td>7.456453</td>\n",
       "    </tr>\n",
       "    <tr>\n",
       "      <th>1255_g_at</th>\n",
       "      <td>3.152269</td>\n",
       "      <td>3.111747</td>\n",
       "      <td>3.018932</td>\n",
       "      <td>3.154545</td>\n",
       "      <td>3.107954</td>\n",
       "      <td>3.224284</td>\n",
       "      <td>3.114241</td>\n",
       "      <td>3.044975</td>\n",
       "      <td>3.304038</td>\n",
       "      <td>2.887919</td>\n",
       "      <td>...</td>\n",
       "      <td>3.257484</td>\n",
       "      <td>3.339234</td>\n",
       "      <td>3.298384</td>\n",
       "      <td>3.150654</td>\n",
       "      <td>3.344501</td>\n",
       "      <td>3.230285</td>\n",
       "      <td>3.175846</td>\n",
       "      <td>3.105092</td>\n",
       "      <td>3.225123</td>\n",
       "      <td>3.090149</td>\n",
       "    </tr>\n",
       "  </tbody>\n",
       "</table>\n",
       "<p>5 rows × 208 columns</p>\n",
       "</div>"
      ],
      "text/plain": [
       "filename   GSM25349.CEL.gz  GSM25350.CEL.gz  GSM25356.CEL.gz  GSM25357.CEL.gz  \\\n",
       "1007_s_at         6.627014         6.249807         5.934128         6.145268   \n",
       "1053_at           6.939184         6.818038         7.047962         7.422477   \n",
       "117_at            5.113570         5.074096         5.371201         5.266550   \n",
       "121_at            7.833862         7.780682         7.458197         7.655948   \n",
       "1255_g_at         3.152269         3.111747         3.018932         3.154545   \n",
       "\n",
       "filename   GSM25358.CEL.gz  GSM25359.CEL.gz  GSM25360.CEL.gz  GSM25361.CEL.gz  \\\n",
       "1007_s_at         6.091270         6.041186         6.050375         6.063847   \n",
       "1053_at           7.272361         7.128216         6.750719         6.836287   \n",
       "117_at            5.342047         5.063876         5.315898         5.483652   \n",
       "121_at            7.546555         7.072670         7.092984         6.954225   \n",
       "1255_g_at         3.107954         3.224284         3.114241         3.044975   \n",
       "\n",
       "filename   GSM25377.CEL.gz  GSM25378.CEL.gz  ...  GSM136719.CEL.gz  \\\n",
       "1007_s_at         6.226106         6.358282  ...          6.466445   \n",
       "1053_at           6.738022         7.367895  ...          7.032885   \n",
       "117_at            6.689444         6.482782  ...          5.661112   \n",
       "121_at            7.489785         7.388539  ...          7.769734   \n",
       "1255_g_at         3.304038         2.887919  ...          3.257484   \n",
       "\n",
       "filename   GSM136720.CEL.gz  GSM136721.CEL.gz  GSM136722.CEL.gz  \\\n",
       "1007_s_at          6.533592          6.631492          6.513362   \n",
       "1053_at            7.156344          7.018025          6.973322   \n",
       "117_at             5.127260          5.151840          5.505602   \n",
       "121_at             7.815864          7.683279          7.883231   \n",
       "1255_g_at          3.339234          3.298384          3.150654   \n",
       "\n",
       "filename   GSM136723.CEL.gz  GSM136724.CEL.gz  GSM136725.CEL.gz  \\\n",
       "1007_s_at          6.440706          6.704324          6.488579   \n",
       "1053_at            6.884738          7.120898          7.517410   \n",
       "117_at             5.687689          4.942651          5.247190   \n",
       "121_at             7.913621          7.834196          7.331864   \n",
       "1255_g_at          3.344501          3.230285          3.175846   \n",
       "\n",
       "filename   GSM136726.CEL.gz  GSM136727.CEL.gz  GSM136729.CEL.gz  \n",
       "1007_s_at          6.809481          6.133068          6.155473  \n",
       "1053_at            7.200596          7.280781          7.111583  \n",
       "117_at             5.237239          5.401876          5.302628  \n",
       "121_at             7.357102          7.607461          7.456453  \n",
       "1255_g_at          3.105092          3.225123          3.090149  \n",
       "\n",
       "[5 rows x 208 columns]"
      ]
     },
     "execution_count": 5,
     "metadata": {},
     "output_type": "execute_result"
    }
   ],
   "source": [
    "#your code here\n",
    "exprs.head()"
   ]
  },
  {
   "cell_type": "code",
   "execution_count": 6,
   "metadata": {},
   "outputs": [
    {
     "data": {
      "text/html": [
       "<div>\n",
       "<style scoped>\n",
       "    .dataframe tbody tr th:only-of-type {\n",
       "        vertical-align: middle;\n",
       "    }\n",
       "\n",
       "    .dataframe tbody tr th {\n",
       "        vertical-align: top;\n",
       "    }\n",
       "\n",
       "    .dataframe thead th {\n",
       "        text-align: right;\n",
       "    }\n",
       "</style>\n",
       "<table border=\"1\" class=\"dataframe\">\n",
       "  <thead>\n",
       "    <tr style=\"text-align: right;\">\n",
       "      <th></th>\n",
       "      <th>ethnicity</th>\n",
       "      <th>date</th>\n",
       "      <th>filename</th>\n",
       "      <th>sex</th>\n",
       "    </tr>\n",
       "  </thead>\n",
       "  <tbody>\n",
       "    <tr>\n",
       "      <th>0</th>\n",
       "      <td>CEU</td>\n",
       "      <td>2003-02-04</td>\n",
       "      <td>GSM25349.CEL.gz</td>\n",
       "      <td>M</td>\n",
       "    </tr>\n",
       "    <tr>\n",
       "      <th>1</th>\n",
       "      <td>CEU</td>\n",
       "      <td>2003-02-04</td>\n",
       "      <td>GSM25350.CEL.gz</td>\n",
       "      <td>M</td>\n",
       "    </tr>\n",
       "    <tr>\n",
       "      <th>2</th>\n",
       "      <td>CEU</td>\n",
       "      <td>2002-12-17</td>\n",
       "      <td>GSM25356.CEL.gz</td>\n",
       "      <td>M</td>\n",
       "    </tr>\n",
       "    <tr>\n",
       "      <th>3</th>\n",
       "      <td>CEU</td>\n",
       "      <td>2003-01-30</td>\n",
       "      <td>GSM25357.CEL.gz</td>\n",
       "      <td>M</td>\n",
       "    </tr>\n",
       "    <tr>\n",
       "      <th>4</th>\n",
       "      <td>CEU</td>\n",
       "      <td>2003-01-03</td>\n",
       "      <td>GSM25358.CEL.gz</td>\n",
       "      <td>M</td>\n",
       "    </tr>\n",
       "  </tbody>\n",
       "</table>\n",
       "</div>"
      ],
      "text/plain": [
       "  ethnicity        date         filename sex\n",
       "0       CEU  2003-02-04  GSM25349.CEL.gz   M\n",
       "1       CEU  2003-02-04  GSM25350.CEL.gz   M\n",
       "2       CEU  2002-12-17  GSM25356.CEL.gz   M\n",
       "3       CEU  2003-01-30  GSM25357.CEL.gz   M\n",
       "4       CEU  2003-01-03  GSM25358.CEL.gz   M"
      ]
     },
     "execution_count": 6,
     "metadata": {},
     "output_type": "execute_result"
    }
   ],
   "source": [
    "sampleinfo.head()"
   ]
  },
  {
   "cell_type": "markdown",
   "metadata": {},
   "source": [
    "#### Problem 1(b)\n",
    "\n",
    "Extract the year and month as integers from the `sampleinfo` table. \n",
    "\n",
    "**Hint**: To convert a Series or a column of a pandas DataFrame that contains a date-like object, you can use the `to_datetime` function [[read here](http://pandas.pydata.org/pandas-docs/stable/timeseries.html)].  This will create a `DatetimeIndex` which can be used to extract the month and year for each row in the DataFrame. "
   ]
  },
  {
   "cell_type": "code",
   "execution_count": 7,
   "metadata": {},
   "outputs": [
    {
     "data": {
      "text/plain": [
       "[[2003, 2],\n",
       " [2003, 2],\n",
       " [2002, 12],\n",
       " [2003, 1],\n",
       " [2003, 1],\n",
       " [2003, 1],\n",
       " [2003, 1],\n",
       " [2003, 2],\n",
       " [2002, 12],\n",
       " [2002, 12],\n",
       " [2002, 12],\n",
       " [2003, 1],\n",
       " [2002, 12],\n",
       " [2002, 12],\n",
       " [2002, 11],\n",
       " [2002, 12],\n",
       " [2003, 1],\n",
       " [2003, 2],\n",
       " [2003, 2],\n",
       " [2002, 12],\n",
       " [2002, 11],\n",
       " [2002, 11],\n",
       " [2002, 11],\n",
       " [2002, 11],\n",
       " [2002, 11],\n",
       " [2002, 11],\n",
       " [2002, 12],\n",
       " [2002, 12],\n",
       " [2002, 11],\n",
       " [2002, 11],\n",
       " [2002, 11],\n",
       " [2002, 12],\n",
       " [2003, 1],\n",
       " [2003, 1],\n",
       " [2003, 1],\n",
       " [2003, 1],\n",
       " [2003, 3],\n",
       " [2003, 3],\n",
       " [2003, 3],\n",
       " [2003, 3],\n",
       " [2003, 4],\n",
       " [2003, 4],\n",
       " [2003, 1],\n",
       " [2003, 1],\n",
       " [2003, 1],\n",
       " [2003, 1],\n",
       " [2003, 2],\n",
       " [2003, 2],\n",
       " [2003, 1],\n",
       " [2003, 2],\n",
       " [2003, 3],\n",
       " [2003, 3],\n",
       " [2002, 10],\n",
       " [2002, 11],\n",
       " [2002, 10],\n",
       " [2002, 11],\n",
       " [2002, 12],\n",
       " [2003, 1],\n",
       " [2003, 1],\n",
       " [2003, 1],\n",
       " [2003, 1],\n",
       " [2003, 1],\n",
       " [2003, 1],\n",
       " [2003, 3],\n",
       " [2003, 1],\n",
       " [2003, 1],\n",
       " [2003, 1],\n",
       " [2003, 1],\n",
       " [2003, 1],\n",
       " [2002, 11],\n",
       " [2002, 12],\n",
       " [2003, 1],\n",
       " [2002, 12],\n",
       " [2002, 12],\n",
       " [2003, 2],\n",
       " [2003, 2],\n",
       " [2003, 2],\n",
       " [2003, 2],\n",
       " [2003, 2],\n",
       " [2003, 2],\n",
       " [2003, 2],\n",
       " [2003, 2],\n",
       " [2003, 2],\n",
       " [2003, 2],\n",
       " [2004, 4],\n",
       " [2004, 4],\n",
       " [2004, 4],\n",
       " [2004, 4],\n",
       " [2004, 12],\n",
       " [2004, 11],\n",
       " [2004, 11],\n",
       " [2004, 11],\n",
       " [2004, 11],\n",
       " [2004, 11],\n",
       " [2004, 12],\n",
       " [2004, 11],\n",
       " [2004, 11],\n",
       " [2002, 11],\n",
       " [2002, 11],\n",
       " [2005, 5],\n",
       " [2005, 6],\n",
       " [2005, 6],\n",
       " [2005, 6],\n",
       " [2005, 6],\n",
       " [2005, 6],\n",
       " [2005, 6],\n",
       " [2005, 6],\n",
       " [2005, 6],\n",
       " [2005, 6],\n",
       " [2005, 6],\n",
       " [2005, 6],\n",
       " [2005, 6],\n",
       " [2005, 6],\n",
       " [2005, 6],\n",
       " [2005, 6],\n",
       " [2005, 6],\n",
       " [2005, 6],\n",
       " [2005, 6],\n",
       " [2005, 6],\n",
       " [2005, 6],\n",
       " [2005, 6],\n",
       " [2005, 6],\n",
       " [2005, 7],\n",
       " [2005, 7],\n",
       " [2005, 7],\n",
       " [2005, 7],\n",
       " [2005, 7],\n",
       " [2005, 7],\n",
       " [2006, 6],\n",
       " [2006, 6],\n",
       " [2005, 8],\n",
       " [2005, 8],\n",
       " [2005, 8],\n",
       " [2005, 8],\n",
       " [2005, 8],\n",
       " [2005, 8],\n",
       " [2005, 8],\n",
       " [2005, 8],\n",
       " [2005, 8],\n",
       " [2005, 8],\n",
       " [2005, 8],\n",
       " [2005, 8],\n",
       " [2005, 9],\n",
       " [2005, 9],\n",
       " [2005, 9],\n",
       " [2005, 9],\n",
       " [2005, 9],\n",
       " [2005, 9],\n",
       " [2005, 10],\n",
       " [2005, 10],\n",
       " [2005, 10],\n",
       " [2005, 10],\n",
       " [2005, 10],\n",
       " [2005, 10],\n",
       " [2005, 10],\n",
       " [2005, 10],\n",
       " [2005, 10],\n",
       " [2005, 10],\n",
       " [2005, 10],\n",
       " [2005, 10],\n",
       " [2005, 10],\n",
       " [2005, 10],\n",
       " [2005, 10],\n",
       " [2005, 10],\n",
       " [2005, 11],\n",
       " [2005, 11],\n",
       " [2005, 11],\n",
       " [2005, 11],\n",
       " [2005, 11],\n",
       " [2005, 11],\n",
       " [2005, 11],\n",
       " [2005, 11],\n",
       " [2005, 11],\n",
       " [2005, 11],\n",
       " [2005, 11],\n",
       " [2005, 11],\n",
       " [2005, 11],\n",
       " [2005, 12],\n",
       " [2005, 12],\n",
       " [2005, 12],\n",
       " [2006, 4],\n",
       " [2006, 4],\n",
       " [2006, 4],\n",
       " [2006, 4],\n",
       " [2006, 4],\n",
       " [2006, 4],\n",
       " [2006, 4],\n",
       " [2006, 4],\n",
       " [2006, 4],\n",
       " [2006, 4],\n",
       " [2006, 4],\n",
       " [2006, 4],\n",
       " [2006, 4],\n",
       " [2006, 4],\n",
       " [2006, 4],\n",
       " [2006, 4],\n",
       " [2006, 4],\n",
       " [2006, 4],\n",
       " [2006, 4],\n",
       " [2006, 4],\n",
       " [2006, 4],\n",
       " [2006, 4],\n",
       " [2006, 4],\n",
       " [2006, 4],\n",
       " [2005, 2],\n",
       " [2005, 2],\n",
       " [2005, 6],\n",
       " [2005, 5]]"
      ]
     },
     "execution_count": 7,
     "metadata": {},
     "output_type": "execute_result"
    }
   ],
   "source": [
    "[[date.year, date.month] for date in (pd.to_datetime(sampleinfo.date))]\n"
   ]
  },
  {
   "cell_type": "markdown",
   "metadata": {},
   "source": [
    "#### Problem 1(c)\n",
    "\n",
    "Convert the dates in the `date` column from the `sampleinfo` table into days since October 31, 2002. Add a column to the `sampleinfo` DataFrame titled `elapsedInDays` containing the days since October 31, 2002.  Show the head of the `sampleinfo` DataFrame which includes the new column.  \n",
    "\n",
    "**Hint**: Use the `datetime` module to create a new `datetime` object for the specific date October 31, 2002. Then, subtract the October 31, 2002 date from each date from the `date` column in the `sampleinfo` DataFrame. "
   ]
  },
  {
   "cell_type": "code",
   "execution_count": 8,
   "metadata": {},
   "outputs": [
    {
     "data": {
      "text/html": [
       "<div>\n",
       "<style scoped>\n",
       "    .dataframe tbody tr th:only-of-type {\n",
       "        vertical-align: middle;\n",
       "    }\n",
       "\n",
       "    .dataframe tbody tr th {\n",
       "        vertical-align: top;\n",
       "    }\n",
       "\n",
       "    .dataframe thead th {\n",
       "        text-align: right;\n",
       "    }\n",
       "</style>\n",
       "<table border=\"1\" class=\"dataframe\">\n",
       "  <thead>\n",
       "    <tr style=\"text-align: right;\">\n",
       "      <th></th>\n",
       "      <th>ethnicity</th>\n",
       "      <th>date</th>\n",
       "      <th>filename</th>\n",
       "      <th>sex</th>\n",
       "      <th>elapsedInDays</th>\n",
       "    </tr>\n",
       "  </thead>\n",
       "  <tbody>\n",
       "    <tr>\n",
       "      <th>0</th>\n",
       "      <td>CEU</td>\n",
       "      <td>2003-02-04</td>\n",
       "      <td>GSM25349.CEL.gz</td>\n",
       "      <td>M</td>\n",
       "      <td>96</td>\n",
       "    </tr>\n",
       "    <tr>\n",
       "      <th>1</th>\n",
       "      <td>CEU</td>\n",
       "      <td>2003-02-04</td>\n",
       "      <td>GSM25350.CEL.gz</td>\n",
       "      <td>M</td>\n",
       "      <td>96</td>\n",
       "    </tr>\n",
       "    <tr>\n",
       "      <th>2</th>\n",
       "      <td>CEU</td>\n",
       "      <td>2002-12-17</td>\n",
       "      <td>GSM25356.CEL.gz</td>\n",
       "      <td>M</td>\n",
       "      <td>47</td>\n",
       "    </tr>\n",
       "    <tr>\n",
       "      <th>3</th>\n",
       "      <td>CEU</td>\n",
       "      <td>2003-01-30</td>\n",
       "      <td>GSM25357.CEL.gz</td>\n",
       "      <td>M</td>\n",
       "      <td>91</td>\n",
       "    </tr>\n",
       "    <tr>\n",
       "      <th>4</th>\n",
       "      <td>CEU</td>\n",
       "      <td>2003-01-03</td>\n",
       "      <td>GSM25358.CEL.gz</td>\n",
       "      <td>M</td>\n",
       "      <td>64</td>\n",
       "    </tr>\n",
       "  </tbody>\n",
       "</table>\n",
       "</div>"
      ],
      "text/plain": [
       "  ethnicity        date         filename sex  elapsedInDays\n",
       "0       CEU  2003-02-04  GSM25349.CEL.gz   M             96\n",
       "1       CEU  2003-02-04  GSM25350.CEL.gz   M             96\n",
       "2       CEU  2002-12-17  GSM25356.CEL.gz   M             47\n",
       "3       CEU  2003-01-30  GSM25357.CEL.gz   M             91\n",
       "4       CEU  2003-01-03  GSM25358.CEL.gz   M             64"
      ]
     },
     "execution_count": 8,
     "metadata": {},
     "output_type": "execute_result"
    }
   ],
   "source": [
    "#your code here\n",
    "null_date = dt.datetime.strptime('2002-10-31', \"%Y-%m-%d\")\n",
    "sampleinfo['elapsedInDays'] = [(date - null_date).days for date in (pd.to_datetime(sampleinfo.date))]\n",
    "sampleinfo.head()"
   ]
  },
  {
   "cell_type": "markdown",
   "metadata": {},
   "source": [
    "#### Problem 1(d)\n",
    "\n",
    "Use exploratory analysis and the singular value decomposition (SVD) of the gene expression data matrix to determine if the date the samples were processed has large effect on the variability seen in the data or if it is just ethnicity (which is confounded with date). \n",
    "\n",
    "**Hint**: See the end of the [lecture from 9/23/2014 for help with SVD](http://nbviewer.ipython.org/github/cs109/2014/blob/master/lectures/lecture07/data_scraping_transcript.ipynb). \n",
    "\n",
    "First subset the the `sampleinfo` DataFrame to include only the CEU ethnicity.  Call this new subsetted DataFrame `sampleinfoCEU`.  Show the head of `sampleinfoCEU` DataFrame. "
   ]
  },
  {
   "cell_type": "code",
   "execution_count": 9,
   "metadata": {},
   "outputs": [
    {
     "name": "stdout",
     "output_type": "stream",
     "text": [
      "(208, 5) (102, 5)\n"
     ]
    },
    {
     "data": {
      "text/html": [
       "<div>\n",
       "<style scoped>\n",
       "    .dataframe tbody tr th:only-of-type {\n",
       "        vertical-align: middle;\n",
       "    }\n",
       "\n",
       "    .dataframe tbody tr th {\n",
       "        vertical-align: top;\n",
       "    }\n",
       "\n",
       "    .dataframe thead th {\n",
       "        text-align: right;\n",
       "    }\n",
       "</style>\n",
       "<table border=\"1\" class=\"dataframe\">\n",
       "  <thead>\n",
       "    <tr style=\"text-align: right;\">\n",
       "      <th></th>\n",
       "      <th>ethnicity</th>\n",
       "      <th>date</th>\n",
       "      <th>filename</th>\n",
       "      <th>sex</th>\n",
       "      <th>elapsedInDays</th>\n",
       "    </tr>\n",
       "  </thead>\n",
       "  <tbody>\n",
       "    <tr>\n",
       "      <th>0</th>\n",
       "      <td>CEU</td>\n",
       "      <td>2003-02-04</td>\n",
       "      <td>GSM25349.CEL.gz</td>\n",
       "      <td>M</td>\n",
       "      <td>96</td>\n",
       "    </tr>\n",
       "    <tr>\n",
       "      <th>1</th>\n",
       "      <td>CEU</td>\n",
       "      <td>2003-02-04</td>\n",
       "      <td>GSM25350.CEL.gz</td>\n",
       "      <td>M</td>\n",
       "      <td>96</td>\n",
       "    </tr>\n",
       "    <tr>\n",
       "      <th>2</th>\n",
       "      <td>CEU</td>\n",
       "      <td>2002-12-17</td>\n",
       "      <td>GSM25356.CEL.gz</td>\n",
       "      <td>M</td>\n",
       "      <td>47</td>\n",
       "    </tr>\n",
       "    <tr>\n",
       "      <th>3</th>\n",
       "      <td>CEU</td>\n",
       "      <td>2003-01-30</td>\n",
       "      <td>GSM25357.CEL.gz</td>\n",
       "      <td>M</td>\n",
       "      <td>91</td>\n",
       "    </tr>\n",
       "    <tr>\n",
       "      <th>4</th>\n",
       "      <td>CEU</td>\n",
       "      <td>2003-01-03</td>\n",
       "      <td>GSM25358.CEL.gz</td>\n",
       "      <td>M</td>\n",
       "      <td>64</td>\n",
       "    </tr>\n",
       "  </tbody>\n",
       "</table>\n",
       "</div>"
      ],
      "text/plain": [
       "  ethnicity        date         filename sex  elapsedInDays\n",
       "0       CEU  2003-02-04  GSM25349.CEL.gz   M             96\n",
       "1       CEU  2003-02-04  GSM25350.CEL.gz   M             96\n",
       "2       CEU  2002-12-17  GSM25356.CEL.gz   M             47\n",
       "3       CEU  2003-01-30  GSM25357.CEL.gz   M             91\n",
       "4       CEU  2003-01-03  GSM25358.CEL.gz   M             64"
      ]
     },
     "execution_count": 9,
     "metadata": {},
     "output_type": "execute_result"
    }
   ],
   "source": [
    "#your code here\n",
    "sampleinfoCEU = sampleinfo[sampleinfo.ethnicity == 'CEU']\n",
    "print(sampleinfo.shape, sampleinfoCEU.shape)\n",
    "sampleinfoCEU.head()"
   ]
  },
  {
   "cell_type": "markdown",
   "metadata": {},
   "source": [
    "Next, subset the `exprs` DataFrame to only include the samples with the CEU ethnicity. Name this new subsetted DataFrame `exprsCEU`. Show the head of the `exprsCEU` DataFrame. "
   ]
  },
  {
   "cell_type": "code",
   "execution_count": 10,
   "metadata": {},
   "outputs": [
    {
     "name": "stdout",
     "output_type": "stream",
     "text": [
      "(8793, 208) (8793, 102)\n"
     ]
    },
    {
     "data": {
      "text/html": [
       "<div>\n",
       "<style scoped>\n",
       "    .dataframe tbody tr th:only-of-type {\n",
       "        vertical-align: middle;\n",
       "    }\n",
       "\n",
       "    .dataframe tbody tr th {\n",
       "        vertical-align: top;\n",
       "    }\n",
       "\n",
       "    .dataframe thead th {\n",
       "        text-align: right;\n",
       "    }\n",
       "</style>\n",
       "<table border=\"1\" class=\"dataframe\">\n",
       "  <thead>\n",
       "    <tr style=\"text-align: right;\">\n",
       "      <th>filename</th>\n",
       "      <th>GSM25349.CEL.gz</th>\n",
       "      <th>GSM25350.CEL.gz</th>\n",
       "      <th>GSM25356.CEL.gz</th>\n",
       "      <th>GSM25357.CEL.gz</th>\n",
       "      <th>GSM25358.CEL.gz</th>\n",
       "      <th>GSM25359.CEL.gz</th>\n",
       "      <th>GSM25360.CEL.gz</th>\n",
       "      <th>GSM25361.CEL.gz</th>\n",
       "      <th>GSM25377.CEL.gz</th>\n",
       "      <th>GSM25378.CEL.gz</th>\n",
       "      <th>...</th>\n",
       "      <th>GSM48658.CEL.gz</th>\n",
       "      <th>GSM48660.CEL.gz</th>\n",
       "      <th>GSM48661.CEL.gz</th>\n",
       "      <th>GSM48662.CEL.gz</th>\n",
       "      <th>GSM48663.CEL.gz</th>\n",
       "      <th>GSM48664.CEL.gz</th>\n",
       "      <th>GSM48665.CEL.gz</th>\n",
       "      <th>GSM136725.CEL.gz</th>\n",
       "      <th>GSM136726.CEL.gz</th>\n",
       "      <th>GSM136727.CEL.gz</th>\n",
       "    </tr>\n",
       "  </thead>\n",
       "  <tbody>\n",
       "    <tr>\n",
       "      <th>1007_s_at</th>\n",
       "      <td>6.627014</td>\n",
       "      <td>6.249807</td>\n",
       "      <td>5.934128</td>\n",
       "      <td>6.145268</td>\n",
       "      <td>6.091270</td>\n",
       "      <td>6.041186</td>\n",
       "      <td>6.050375</td>\n",
       "      <td>6.063847</td>\n",
       "      <td>6.226106</td>\n",
       "      <td>6.358282</td>\n",
       "      <td>...</td>\n",
       "      <td>6.501510</td>\n",
       "      <td>6.558100</td>\n",
       "      <td>6.618286</td>\n",
       "      <td>6.869995</td>\n",
       "      <td>5.981000</td>\n",
       "      <td>6.403285</td>\n",
       "      <td>6.248702</td>\n",
       "      <td>6.488579</td>\n",
       "      <td>6.809481</td>\n",
       "      <td>6.133068</td>\n",
       "    </tr>\n",
       "    <tr>\n",
       "      <th>1053_at</th>\n",
       "      <td>6.939184</td>\n",
       "      <td>6.818038</td>\n",
       "      <td>7.047962</td>\n",
       "      <td>7.422477</td>\n",
       "      <td>7.272361</td>\n",
       "      <td>7.128216</td>\n",
       "      <td>6.750719</td>\n",
       "      <td>6.836287</td>\n",
       "      <td>6.738022</td>\n",
       "      <td>7.367895</td>\n",
       "      <td>...</td>\n",
       "      <td>7.066686</td>\n",
       "      <td>7.386702</td>\n",
       "      <td>6.407958</td>\n",
       "      <td>7.089180</td>\n",
       "      <td>7.120923</td>\n",
       "      <td>7.018998</td>\n",
       "      <td>7.155419</td>\n",
       "      <td>7.517410</td>\n",
       "      <td>7.200596</td>\n",
       "      <td>7.280781</td>\n",
       "    </tr>\n",
       "    <tr>\n",
       "      <th>117_at</th>\n",
       "      <td>5.113570</td>\n",
       "      <td>5.074096</td>\n",
       "      <td>5.371201</td>\n",
       "      <td>5.266550</td>\n",
       "      <td>5.342047</td>\n",
       "      <td>5.063876</td>\n",
       "      <td>5.315898</td>\n",
       "      <td>5.483652</td>\n",
       "      <td>6.689444</td>\n",
       "      <td>6.482782</td>\n",
       "      <td>...</td>\n",
       "      <td>5.600514</td>\n",
       "      <td>5.232676</td>\n",
       "      <td>5.630720</td>\n",
       "      <td>4.944748</td>\n",
       "      <td>5.275577</td>\n",
       "      <td>5.770358</td>\n",
       "      <td>5.616842</td>\n",
       "      <td>5.247190</td>\n",
       "      <td>5.237239</td>\n",
       "      <td>5.401876</td>\n",
       "    </tr>\n",
       "    <tr>\n",
       "      <th>121_at</th>\n",
       "      <td>7.833862</td>\n",
       "      <td>7.780682</td>\n",
       "      <td>7.458197</td>\n",
       "      <td>7.655948</td>\n",
       "      <td>7.546555</td>\n",
       "      <td>7.072670</td>\n",
       "      <td>7.092984</td>\n",
       "      <td>6.954225</td>\n",
       "      <td>7.489785</td>\n",
       "      <td>7.388539</td>\n",
       "      <td>...</td>\n",
       "      <td>7.437535</td>\n",
       "      <td>7.714650</td>\n",
       "      <td>7.416252</td>\n",
       "      <td>7.746448</td>\n",
       "      <td>8.001434</td>\n",
       "      <td>7.626723</td>\n",
       "      <td>7.452299</td>\n",
       "      <td>7.331864</td>\n",
       "      <td>7.357102</td>\n",
       "      <td>7.607461</td>\n",
       "    </tr>\n",
       "    <tr>\n",
       "      <th>1255_g_at</th>\n",
       "      <td>3.152269</td>\n",
       "      <td>3.111747</td>\n",
       "      <td>3.018932</td>\n",
       "      <td>3.154545</td>\n",
       "      <td>3.107954</td>\n",
       "      <td>3.224284</td>\n",
       "      <td>3.114241</td>\n",
       "      <td>3.044975</td>\n",
       "      <td>3.304038</td>\n",
       "      <td>2.887919</td>\n",
       "      <td>...</td>\n",
       "      <td>3.009983</td>\n",
       "      <td>3.151203</td>\n",
       "      <td>3.199709</td>\n",
       "      <td>3.159496</td>\n",
       "      <td>3.149710</td>\n",
       "      <td>3.242780</td>\n",
       "      <td>3.433125</td>\n",
       "      <td>3.175846</td>\n",
       "      <td>3.105092</td>\n",
       "      <td>3.225123</td>\n",
       "    </tr>\n",
       "  </tbody>\n",
       "</table>\n",
       "<p>5 rows × 102 columns</p>\n",
       "</div>"
      ],
      "text/plain": [
       "filename   GSM25349.CEL.gz  GSM25350.CEL.gz  GSM25356.CEL.gz  GSM25357.CEL.gz  \\\n",
       "1007_s_at         6.627014         6.249807         5.934128         6.145268   \n",
       "1053_at           6.939184         6.818038         7.047962         7.422477   \n",
       "117_at            5.113570         5.074096         5.371201         5.266550   \n",
       "121_at            7.833862         7.780682         7.458197         7.655948   \n",
       "1255_g_at         3.152269         3.111747         3.018932         3.154545   \n",
       "\n",
       "filename   GSM25358.CEL.gz  GSM25359.CEL.gz  GSM25360.CEL.gz  GSM25361.CEL.gz  \\\n",
       "1007_s_at         6.091270         6.041186         6.050375         6.063847   \n",
       "1053_at           7.272361         7.128216         6.750719         6.836287   \n",
       "117_at            5.342047         5.063876         5.315898         5.483652   \n",
       "121_at            7.546555         7.072670         7.092984         6.954225   \n",
       "1255_g_at         3.107954         3.224284         3.114241         3.044975   \n",
       "\n",
       "filename   GSM25377.CEL.gz  GSM25378.CEL.gz  ...  GSM48658.CEL.gz  \\\n",
       "1007_s_at         6.226106         6.358282  ...         6.501510   \n",
       "1053_at           6.738022         7.367895  ...         7.066686   \n",
       "117_at            6.689444         6.482782  ...         5.600514   \n",
       "121_at            7.489785         7.388539  ...         7.437535   \n",
       "1255_g_at         3.304038         2.887919  ...         3.009983   \n",
       "\n",
       "filename   GSM48660.CEL.gz  GSM48661.CEL.gz  GSM48662.CEL.gz  GSM48663.CEL.gz  \\\n",
       "1007_s_at         6.558100         6.618286         6.869995         5.981000   \n",
       "1053_at           7.386702         6.407958         7.089180         7.120923   \n",
       "117_at            5.232676         5.630720         4.944748         5.275577   \n",
       "121_at            7.714650         7.416252         7.746448         8.001434   \n",
       "1255_g_at         3.151203         3.199709         3.159496         3.149710   \n",
       "\n",
       "filename   GSM48664.CEL.gz  GSM48665.CEL.gz  GSM136725.CEL.gz  \\\n",
       "1007_s_at         6.403285         6.248702          6.488579   \n",
       "1053_at           7.018998         7.155419          7.517410   \n",
       "117_at            5.770358         5.616842          5.247190   \n",
       "121_at            7.626723         7.452299          7.331864   \n",
       "1255_g_at         3.242780         3.433125          3.175846   \n",
       "\n",
       "filename   GSM136726.CEL.gz  GSM136727.CEL.gz  \n",
       "1007_s_at          6.809481          6.133068  \n",
       "1053_at            7.200596          7.280781  \n",
       "117_at             5.237239          5.401876  \n",
       "121_at             7.357102          7.607461  \n",
       "1255_g_at          3.105092          3.225123  \n",
       "\n",
       "[5 rows x 102 columns]"
      ]
     },
     "execution_count": 10,
     "metadata": {},
     "output_type": "execute_result"
    }
   ],
   "source": [
    "#your code here\n",
    "exprsCEU = exprs[sampleinfoCEU.filename]\n",
    "print(exprs.shape, exprsCEU.shape)\n",
    "exprsCEU.head()"
   ]
  },
  {
   "cell_type": "markdown",
   "metadata": {},
   "source": [
    "Check to make sure the order of the columns in the `exprsCEU` DataFrame matches the rows in the `sampleinfoCEU` DataFrame.  "
   ]
  },
  {
   "cell_type": "code",
   "execution_count": 11,
   "metadata": {},
   "outputs": [
    {
     "data": {
      "text/plain": [
       "True"
      ]
     },
     "execution_count": 11,
     "metadata": {},
     "output_type": "execute_result"
    }
   ],
   "source": [
    "#your code here\n",
    "(exprsCEU.columns == sampleinfoCEU.filename).all()"
   ]
  },
  {
   "cell_type": "markdown",
   "metadata": {},
   "source": [
    "Compute the average gene expression intensity in the `exprsCEU` DataFrame across all the samples. For each sample in the `exprsCEU` DataFrame, subtract the average gene expression intensity from each of the samples. Show the head of the mean normalized gene expression data.  "
   ]
  },
  {
   "cell_type": "code",
   "execution_count": 12,
   "metadata": {},
   "outputs": [
    {
     "data": {
      "text/plain": [
       "array([5.73733074, 5.74548658, 5.69421707, 5.73058582, 5.71543314,\n",
       "       5.72239694, 5.71990417, 5.75000972, 5.62447411, 5.72802494,\n",
       "       5.72089612, 5.72018416, 5.61882464, 5.7105601 , 5.67628944,\n",
       "       5.69777072, 5.71108855, 5.73710486, 5.70663166, 5.71933617,\n",
       "       5.69105895, 5.70862674, 5.75872964, 5.7123312 , 5.74255918,\n",
       "       5.70725937, 5.70635656, 5.70721392, 5.71488029, 5.72256017,\n",
       "       5.71484641, 5.68586546, 5.73522713, 5.73052619, 5.73311727,\n",
       "       5.72646498, 5.73423348, 5.74671951, 5.75229941, 5.70081006,\n",
       "       5.80514663, 5.83549931, 5.71791675, 5.67686615, 5.72084159,\n",
       "       5.69957116, 5.72635775, 5.740183  , 5.80628184, 5.73050104,\n",
       "       5.73547426, 5.73392245, 5.68634416, 5.72132628, 5.68666876,\n",
       "       5.70399787, 5.70401556, 5.71102666, 5.72372581, 5.70940523,\n",
       "       5.73968523, 5.70692144, 5.70553317, 5.73888087, 5.69843451,\n",
       "       5.71539934, 5.71015799, 5.72838551, 5.72527184, 5.69099759,\n",
       "       5.69605903, 5.72042692, 5.72546898, 5.69416922, 5.71685537,\n",
       "       5.72517673, 5.73092619, 5.72177937, 5.72272952, 5.68659833,\n",
       "       5.72798321, 5.68981012, 5.72536368, 5.72287949, 5.75014518,\n",
       "       5.74670251, 5.73300709, 5.75014138, 5.72314549, 5.72236889,\n",
       "       5.73252697, 5.71572387, 5.72049787, 5.70837358, 5.73818883,\n",
       "       5.7128253 , 5.69151937, 5.65000378, 5.68114198, 5.74412208,\n",
       "       5.73348614, 5.7397543 ])"
      ]
     },
     "execution_count": 12,
     "metadata": {},
     "output_type": "execute_result"
    }
   ],
   "source": [
    "#some test stuff\n",
    "# this gives the average per sample (so for each column).\n",
    "averages = [exprsCEU[sample].mean() for sample in exprsCEU.columns]\n",
    "averages\n",
    "# as an array, but identical to above: \n",
    "exprsCEU.mean().values"
   ]
  },
  {
   "cell_type": "code",
   "execution_count": 13,
   "metadata": {},
   "outputs": [
    {
     "data": {
      "text/plain": [
       "array([6.26195526, 7.07521653, 5.60412671, 7.41583546, 3.13393391])"
      ]
     },
     "execution_count": 13,
     "metadata": {},
     "output_type": "execute_result"
    }
   ],
   "source": [
    "#your code here\n",
    "# A sample is defined as \"samples (columns in the gene expression data set) \"\n",
    "# So 'across all the samples' is the mean of all sample values per row \n",
    "avgs = pd.Series([row.mean() for row in exprsCEU.values])\n",
    "avgs.values[:5]"
   ]
  },
  {
   "cell_type": "code",
   "execution_count": 14,
   "metadata": {},
   "outputs": [
    {
     "data": {
      "text/html": [
       "<div>\n",
       "<style scoped>\n",
       "    .dataframe tbody tr th:only-of-type {\n",
       "        vertical-align: middle;\n",
       "    }\n",
       "\n",
       "    .dataframe tbody tr th {\n",
       "        vertical-align: top;\n",
       "    }\n",
       "\n",
       "    .dataframe thead th {\n",
       "        text-align: right;\n",
       "    }\n",
       "</style>\n",
       "<table border=\"1\" class=\"dataframe\">\n",
       "  <thead>\n",
       "    <tr style=\"text-align: right;\">\n",
       "      <th>filename</th>\n",
       "      <th>GSM25349.CEL.gz</th>\n",
       "      <th>GSM25350.CEL.gz</th>\n",
       "      <th>GSM25356.CEL.gz</th>\n",
       "      <th>GSM25357.CEL.gz</th>\n",
       "      <th>GSM25358.CEL.gz</th>\n",
       "      <th>GSM25359.CEL.gz</th>\n",
       "      <th>GSM25360.CEL.gz</th>\n",
       "      <th>GSM25361.CEL.gz</th>\n",
       "      <th>GSM25377.CEL.gz</th>\n",
       "      <th>GSM25378.CEL.gz</th>\n",
       "      <th>...</th>\n",
       "      <th>GSM48658.CEL.gz</th>\n",
       "      <th>GSM48660.CEL.gz</th>\n",
       "      <th>GSM48661.CEL.gz</th>\n",
       "      <th>GSM48662.CEL.gz</th>\n",
       "      <th>GSM48663.CEL.gz</th>\n",
       "      <th>GSM48664.CEL.gz</th>\n",
       "      <th>GSM48665.CEL.gz</th>\n",
       "      <th>GSM136725.CEL.gz</th>\n",
       "      <th>GSM136726.CEL.gz</th>\n",
       "      <th>GSM136727.CEL.gz</th>\n",
       "    </tr>\n",
       "  </thead>\n",
       "  <tbody>\n",
       "    <tr>\n",
       "      <th>1007_s_at</th>\n",
       "      <td>0.365059</td>\n",
       "      <td>-0.012149</td>\n",
       "      <td>-0.327827</td>\n",
       "      <td>-0.116687</td>\n",
       "      <td>-0.170685</td>\n",
       "      <td>-0.220769</td>\n",
       "      <td>-0.211580</td>\n",
       "      <td>-0.198109</td>\n",
       "      <td>-0.035849</td>\n",
       "      <td>0.096327</td>\n",
       "      <td>...</td>\n",
       "      <td>0.239554</td>\n",
       "      <td>0.296144</td>\n",
       "      <td>0.356331</td>\n",
       "      <td>0.608040</td>\n",
       "      <td>-0.280956</td>\n",
       "      <td>0.141330</td>\n",
       "      <td>-0.013254</td>\n",
       "      <td>0.226624</td>\n",
       "      <td>0.547526</td>\n",
       "      <td>-0.128887</td>\n",
       "    </tr>\n",
       "    <tr>\n",
       "      <th>1053_at</th>\n",
       "      <td>-0.136032</td>\n",
       "      <td>-0.257178</td>\n",
       "      <td>-0.027254</td>\n",
       "      <td>0.347260</td>\n",
       "      <td>0.197144</td>\n",
       "      <td>0.053000</td>\n",
       "      <td>-0.324497</td>\n",
       "      <td>-0.238930</td>\n",
       "      <td>-0.337195</td>\n",
       "      <td>0.292678</td>\n",
       "      <td>...</td>\n",
       "      <td>-0.008531</td>\n",
       "      <td>0.311485</td>\n",
       "      <td>-0.667259</td>\n",
       "      <td>0.013964</td>\n",
       "      <td>0.045706</td>\n",
       "      <td>-0.056219</td>\n",
       "      <td>0.080203</td>\n",
       "      <td>0.442193</td>\n",
       "      <td>0.125379</td>\n",
       "      <td>0.205564</td>\n",
       "    </tr>\n",
       "    <tr>\n",
       "      <th>117_at</th>\n",
       "      <td>-0.490556</td>\n",
       "      <td>-0.530031</td>\n",
       "      <td>-0.232926</td>\n",
       "      <td>-0.337577</td>\n",
       "      <td>-0.262080</td>\n",
       "      <td>-0.540250</td>\n",
       "      <td>-0.288228</td>\n",
       "      <td>-0.120475</td>\n",
       "      <td>1.085317</td>\n",
       "      <td>0.878655</td>\n",
       "      <td>...</td>\n",
       "      <td>-0.003613</td>\n",
       "      <td>-0.371451</td>\n",
       "      <td>0.026594</td>\n",
       "      <td>-0.659379</td>\n",
       "      <td>-0.328549</td>\n",
       "      <td>0.166231</td>\n",
       "      <td>0.012716</td>\n",
       "      <td>-0.356936</td>\n",
       "      <td>-0.366887</td>\n",
       "      <td>-0.202251</td>\n",
       "    </tr>\n",
       "    <tr>\n",
       "      <th>121_at</th>\n",
       "      <td>0.418026</td>\n",
       "      <td>0.364847</td>\n",
       "      <td>0.042362</td>\n",
       "      <td>0.240113</td>\n",
       "      <td>0.130720</td>\n",
       "      <td>-0.343165</td>\n",
       "      <td>-0.322852</td>\n",
       "      <td>-0.461611</td>\n",
       "      <td>0.073949</td>\n",
       "      <td>-0.027296</td>\n",
       "      <td>...</td>\n",
       "      <td>0.021700</td>\n",
       "      <td>0.298814</td>\n",
       "      <td>0.000417</td>\n",
       "      <td>0.330612</td>\n",
       "      <td>0.585598</td>\n",
       "      <td>0.210887</td>\n",
       "      <td>0.036463</td>\n",
       "      <td>-0.083972</td>\n",
       "      <td>-0.058733</td>\n",
       "      <td>0.191626</td>\n",
       "    </tr>\n",
       "    <tr>\n",
       "      <th>1255_g_at</th>\n",
       "      <td>0.018335</td>\n",
       "      <td>-0.022187</td>\n",
       "      <td>-0.115002</td>\n",
       "      <td>0.020611</td>\n",
       "      <td>-0.025980</td>\n",
       "      <td>0.090351</td>\n",
       "      <td>-0.019693</td>\n",
       "      <td>-0.088959</td>\n",
       "      <td>0.170104</td>\n",
       "      <td>-0.246015</td>\n",
       "      <td>...</td>\n",
       "      <td>-0.123951</td>\n",
       "      <td>0.017269</td>\n",
       "      <td>0.065775</td>\n",
       "      <td>0.025562</td>\n",
       "      <td>0.015776</td>\n",
       "      <td>0.108846</td>\n",
       "      <td>0.299192</td>\n",
       "      <td>0.041912</td>\n",
       "      <td>-0.028842</td>\n",
       "      <td>0.091189</td>\n",
       "    </tr>\n",
       "  </tbody>\n",
       "</table>\n",
       "<p>5 rows × 102 columns</p>\n",
       "</div>"
      ],
      "text/plain": [
       "filename   GSM25349.CEL.gz  GSM25350.CEL.gz  GSM25356.CEL.gz  GSM25357.CEL.gz  \\\n",
       "1007_s_at         0.365059        -0.012149        -0.327827        -0.116687   \n",
       "1053_at          -0.136032        -0.257178        -0.027254         0.347260   \n",
       "117_at           -0.490556        -0.530031        -0.232926        -0.337577   \n",
       "121_at            0.418026         0.364847         0.042362         0.240113   \n",
       "1255_g_at         0.018335        -0.022187        -0.115002         0.020611   \n",
       "\n",
       "filename   GSM25358.CEL.gz  GSM25359.CEL.gz  GSM25360.CEL.gz  GSM25361.CEL.gz  \\\n",
       "1007_s_at        -0.170685        -0.220769        -0.211580        -0.198109   \n",
       "1053_at           0.197144         0.053000        -0.324497        -0.238930   \n",
       "117_at           -0.262080        -0.540250        -0.288228        -0.120475   \n",
       "121_at            0.130720        -0.343165        -0.322852        -0.461611   \n",
       "1255_g_at        -0.025980         0.090351        -0.019693        -0.088959   \n",
       "\n",
       "filename   GSM25377.CEL.gz  GSM25378.CEL.gz  ...  GSM48658.CEL.gz  \\\n",
       "1007_s_at        -0.035849         0.096327  ...         0.239554   \n",
       "1053_at          -0.337195         0.292678  ...        -0.008531   \n",
       "117_at            1.085317         0.878655  ...        -0.003613   \n",
       "121_at            0.073949        -0.027296  ...         0.021700   \n",
       "1255_g_at         0.170104        -0.246015  ...        -0.123951   \n",
       "\n",
       "filename   GSM48660.CEL.gz  GSM48661.CEL.gz  GSM48662.CEL.gz  GSM48663.CEL.gz  \\\n",
       "1007_s_at         0.296144         0.356331         0.608040        -0.280956   \n",
       "1053_at           0.311485        -0.667259         0.013964         0.045706   \n",
       "117_at           -0.371451         0.026594        -0.659379        -0.328549   \n",
       "121_at            0.298814         0.000417         0.330612         0.585598   \n",
       "1255_g_at         0.017269         0.065775         0.025562         0.015776   \n",
       "\n",
       "filename   GSM48664.CEL.gz  GSM48665.CEL.gz  GSM136725.CEL.gz  \\\n",
       "1007_s_at         0.141330        -0.013254          0.226624   \n",
       "1053_at          -0.056219         0.080203          0.442193   \n",
       "117_at            0.166231         0.012716         -0.356936   \n",
       "121_at            0.210887         0.036463         -0.083972   \n",
       "1255_g_at         0.108846         0.299192          0.041912   \n",
       "\n",
       "filename   GSM136726.CEL.gz  GSM136727.CEL.gz  \n",
       "1007_s_at          0.547526         -0.128887  \n",
       "1053_at            0.125379          0.205564  \n",
       "117_at            -0.366887         -0.202251  \n",
       "121_at            -0.058733          0.191626  \n",
       "1255_g_at         -0.028842          0.091189  \n",
       "\n",
       "[5 rows x 102 columns]"
      ]
     },
     "execution_count": 14,
     "metadata": {},
     "output_type": "execute_result"
    }
   ],
   "source": [
    "normalized_ged=exprsCEU.subtract(avgs.values, axis=0)\n",
    "normalized_ged.head()\n",
    "# another way to get the mean per row I later found is: avgs = exprsCEU.mean(axis=1)"
   ]
  },
  {
   "cell_type": "markdown",
   "metadata": {},
   "source": [
    "Using this mean normalized gene expression data, compute the projection to the first Principal Component (PC1).  \n",
    "\n",
    "**Hint**: Use the `numpy.linalg.svd()` function in the `numpy.linalg` module (or the `scipy.linalg.svd()` function in the `scipy.linalg` module) to apply an [singular value decomposition](http://en.wikipedia.org/wiki/Singular_value_decomposition) to a matrix."
   ]
  },
  {
   "cell_type": "code",
   "execution_count": 15,
   "metadata": {},
   "outputs": [
    {
     "data": {
      "text/plain": [
       "((8793, 102), (102,), (102, 102))"
      ]
     },
     "execution_count": 15,
     "metadata": {},
     "output_type": "execute_result"
    }
   ],
   "source": [
    "#your code here\n",
    "# Subtract mean from data (see cell above) resulted in df normalized_ged\n",
    "# Matrix normalized_ged [N*M] decomposed by svd() into u [N*N], sigma [N*M] and vh [M*M].\n",
    "u, sigma, vh = lin.svd(normalized_ged.values, full_matrices=False)\n",
    "u.shape, sigma.shape, vh.shape\n",
    "#print(vh, vh.T)"
   ]
  },
  {
   "cell_type": "markdown",
   "metadata": {},
   "source": [
    "Create a histogram using the values from PC1.  Use a bin size of 25.  "
   ]
  },
  {
   "cell_type": "code",
   "execution_count": 16,
   "metadata": {},
   "outputs": [
    {
     "data": {
      "text/plain": [
       "Text(0, 0.5, 'count')"
      ]
     },
     "execution_count": 16,
     "metadata": {},
     "output_type": "execute_result"
    },
    {
     "data": {
      "image/png": "[encoded data removed]",
      "text/plain": [
       "<Figure size 720x360 with 1 Axes>"
      ]
     },
     "metadata": {
      "needs_background": "light"
     },
     "output_type": "display_data"
    }
   ],
   "source": [
    "#your code here \n",
    "# I.m.o. no need to conjugate, transpose vh (vh.T) and take from first row to last row the values in column 0 [ : ,0].\n",
    "# Hence took the values in row 0 for first to last column.\n",
    "plt.figure(figsize=(10,5))\n",
    "plt.hist(vh[0, : ], bins=25)\n",
    "plt.xlabel('1st Principal Component', fontsize=15)\n",
    "plt.ylabel('count', fontsize=15)"
   ]
  },
  {
   "cell_type": "markdown",
   "metadata": {},
   "source": [
    "Create a scatter plot with the days since October 31, 2002 on the x-axis and PC1 on the y-axis."
   ]
  },
  {
   "cell_type": "code",
   "execution_count": 17,
   "metadata": {},
   "outputs": [
    {
     "data": {
      "image/png": "[encoded data removed]",
      "text/plain": [
       "<Figure size 720x360 with 1 Axes>"
      ]
     },
     "metadata": {
      "needs_background": "light"
     },
     "output_type": "display_data"
    }
   ],
   "source": [
    "#your code here\n",
    "plt.figure(figsize=(10,5))\n",
    "plt.scatter(vh[0, : ], sampleinfoCEU.elapsedInDays)\n",
    "plt.xlabel('1st Principal Component', fontsize=15)\n",
    "plt.ylabel('Days since 31-10-2002', fontsize=15)\n",
    "plt.show()"
   ]
  },
  {
   "cell_type": "markdown",
   "metadata": {},
   "source": [
    "Around what day do you notice a difference in the way the samples were processed?"
   ]
  },
  {
   "cell_type": "code",
   "execution_count": 18,
   "metadata": {},
   "outputs": [
    {
     "data": {
      "image/png": "[encoded data removed]",
      "text/plain": [
       "<Figure size 720x360 with 1 Axes>"
      ]
     },
     "metadata": {
      "needs_background": "light"
     },
     "output_type": "display_data"
    }
   ],
   "source": [
    "#your code here\n",
    "plt.figure(figsize=(10, 5))\n",
    "plt.axhline(y=100, color='r', label = '100 days')\n",
    "for x,y in zip(vh[0, : ], sampleinfoCEU.elapsedInDays):\n",
    "    plt.scatter(x, y, color='g') if y <= 100 else plt.scatter(x, y, color='b')\n",
    "plt.legend()\n",
    "plt.xlabel('1st Principal Component', fontsize=15)\n",
    "plt.ylabel('Days since 31-10-2002', fontsize=15)\n",
    "plt.show()"
   ]
  },
  {
   "cell_type": "markdown",
   "metadata": {},
   "source": [
    "Answer: of the samples with the CEU ethnicity the Principal Component values above ~100 days all have lower values. And for almost one year no gene samples were registered."
   ]
  },
  {
   "cell_type": "markdown",
   "metadata": {},
   "source": [
    "## Discussion for Problem 1\n",
    "\n",
    "*Write a brief discussion of your conclusions to the questions and tasks above in 100 words or less.*\n",
    "\n",
    "---\n",
    "October 2020: the two 2014 datasets are still available and could be loaded seamlessly into this notebook. Apart from 1(d) most of the Problem 1 homework was straightforward; just wonder why, in 1(b), to extract the year and month as integers from `sampleinfo` as it wasn't used elsewhere.<br>\n",
    "The Principle Component Analysis required serious browsing to understand it. Without PCA the matrix `normalized_ged` probably would be harder to understand; now the dates the samples where taken indicate an irregular spread as from day 100."
   ]
  },
  {
   "cell_type": "markdown",
   "metadata": {},
   "source": [
    "## Problem 2: Is there a pollster bias in presidential election polls?"
   ]
  },
  {
   "cell_type": "markdown",
   "metadata": {},
   "source": [
    "#### Problem 2(a)\n",
    "\n",
    "The [HuffPost Pollster](http://elections.huffingtonpost.com/pollster) contains many political polls. You can access these polls from individual races as a CSV but you can also access polls through the [HuffPost Pollster API](http://elections.huffingtonpost.com/pollster/api) to access the data.  \n",
    "\n",
    "Read in the polls from the [2012 Presidential Election: Barack Obama vs Mitt Romney](http://elections.huffingtonpost.com/pollster/2012-general-election-romney-vs-obama) into a pandas DataFrame called `election`. For this problem, you may read in the polls for this race directly using [the CSV file](http://elections.huffingtonpost.com/pollster/2012-general-election-romney-vs-obama.csv) available from the HuffPost Pollster page."
   ]
  },
  {
   "cell_type": "code",
   "execution_count": 19,
   "metadata": {},
   "outputs": [],
   "source": [
    "#your code here\n",
    "url = 'http://elections.huffingtonpost.com/pollster/2012-general-election-romney-vs-obama.csv'\n",
    "if not os.path.exists('data'):\n",
    "    os.makedirs('data')\n",
    "url_file = requests.get(url)\n",
    "open('data/2012-polls-romney-obama.csv', 'wb').write(url_file.content)\n",
    "election = pd.read_csv('data/2012-polls-romney-obama.csv')"
   ]
  },
  {
   "cell_type": "markdown",
   "metadata": {},
   "source": [
    "Show the head of the `election` DataFrame. "
   ]
  },
  {
   "cell_type": "code",
   "execution_count": 20,
   "metadata": {},
   "outputs": [
    {
     "data": {
      "text/html": [
       "<div>\n",
       "<style scoped>\n",
       "    .dataframe tbody tr th:only-of-type {\n",
       "        vertical-align: middle;\n",
       "    }\n",
       "\n",
       "    .dataframe tbody tr th {\n",
       "        vertical-align: top;\n",
       "    }\n",
       "\n",
       "    .dataframe thead th {\n",
       "        text-align: right;\n",
       "    }\n",
       "</style>\n",
       "<table border=\"1\" class=\"dataframe\">\n",
       "  <thead>\n",
       "    <tr style=\"text-align: right;\">\n",
       "      <th></th>\n",
       "      <th>Pollster</th>\n",
       "      <th>Start Date</th>\n",
       "      <th>End Date</th>\n",
       "      <th>Entry Date/Time (ET)</th>\n",
       "      <th>Number of Observations</th>\n",
       "      <th>Population</th>\n",
       "      <th>Mode</th>\n",
       "      <th>Obama</th>\n",
       "      <th>Romney</th>\n",
       "      <th>Undecided</th>\n",
       "      <th>Other</th>\n",
       "      <th>Pollster URL</th>\n",
       "      <th>Source URL</th>\n",
       "      <th>Partisan</th>\n",
       "      <th>Affiliation</th>\n",
       "      <th>Question Text</th>\n",
       "      <th>Question Iteration</th>\n",
       "    </tr>\n",
       "  </thead>\n",
       "  <tbody>\n",
       "    <tr>\n",
       "      <th>0</th>\n",
       "      <td>Politico/GWU/Battleground</td>\n",
       "      <td>2012-11-04</td>\n",
       "      <td>2012-11-05</td>\n",
       "      <td>2012-11-06T08:40:26Z</td>\n",
       "      <td>1000.0</td>\n",
       "      <td>Likely Voters</td>\n",
       "      <td>Live Phone</td>\n",
       "      <td>47.0</td>\n",
       "      <td>47.0</td>\n",
       "      <td>6.0</td>\n",
       "      <td>NaN</td>\n",
       "      <td>https://elections.huffingtonpost.com/pollster/...</td>\n",
       "      <td>http://www.politico.com/news/stories/1112/8338...</td>\n",
       "      <td>Nonpartisan</td>\n",
       "      <td>None</td>\n",
       "      <td>NaN</td>\n",
       "      <td>1</td>\n",
       "    </tr>\n",
       "    <tr>\n",
       "      <th>1</th>\n",
       "      <td>YouGov/Economist</td>\n",
       "      <td>2012-11-03</td>\n",
       "      <td>2012-11-05</td>\n",
       "      <td>2012-11-26T15:31:23Z</td>\n",
       "      <td>740.0</td>\n",
       "      <td>Likely Voters</td>\n",
       "      <td>Internet</td>\n",
       "      <td>49.0</td>\n",
       "      <td>47.0</td>\n",
       "      <td>3.0</td>\n",
       "      <td>NaN</td>\n",
       "      <td>https://elections.huffingtonpost.com/pollster/...</td>\n",
       "      <td>http://cdn.yougov.com/cumulus_uploads/document...</td>\n",
       "      <td>Nonpartisan</td>\n",
       "      <td>None</td>\n",
       "      <td>NaN</td>\n",
       "      <td>1</td>\n",
       "    </tr>\n",
       "    <tr>\n",
       "      <th>2</th>\n",
       "      <td>Gravis Marketing</td>\n",
       "      <td>2012-11-03</td>\n",
       "      <td>2012-11-05</td>\n",
       "      <td>2012-11-06T09:22:02Z</td>\n",
       "      <td>872.0</td>\n",
       "      <td>Likely Voters</td>\n",
       "      <td>Automated Phone</td>\n",
       "      <td>48.0</td>\n",
       "      <td>48.0</td>\n",
       "      <td>4.0</td>\n",
       "      <td>NaN</td>\n",
       "      <td>https://elections.huffingtonpost.com/pollster/...</td>\n",
       "      <td>http://www.gravispolls.com/2012/11/gravis-mark...</td>\n",
       "      <td>Nonpartisan</td>\n",
       "      <td>None</td>\n",
       "      <td>NaN</td>\n",
       "      <td>1</td>\n",
       "    </tr>\n",
       "    <tr>\n",
       "      <th>3</th>\n",
       "      <td>IBD/TIPP</td>\n",
       "      <td>2012-11-03</td>\n",
       "      <td>2012-11-05</td>\n",
       "      <td>2012-11-06T08:51:48Z</td>\n",
       "      <td>712.0</td>\n",
       "      <td>Likely Voters</td>\n",
       "      <td>Live Phone</td>\n",
       "      <td>50.0</td>\n",
       "      <td>49.0</td>\n",
       "      <td>NaN</td>\n",
       "      <td>1.0</td>\n",
       "      <td>https://elections.huffingtonpost.com/pollster/...</td>\n",
       "      <td>http://news.investors.com/special-report/50841...</td>\n",
       "      <td>Nonpartisan</td>\n",
       "      <td>None</td>\n",
       "      <td>NaN</td>\n",
       "      <td>1</td>\n",
       "    </tr>\n",
       "    <tr>\n",
       "      <th>4</th>\n",
       "      <td>Rasmussen</td>\n",
       "      <td>2012-11-03</td>\n",
       "      <td>2012-11-05</td>\n",
       "      <td>2012-11-06T08:47:50Z</td>\n",
       "      <td>1500.0</td>\n",
       "      <td>Likely Voters</td>\n",
       "      <td>Automated Phone</td>\n",
       "      <td>48.0</td>\n",
       "      <td>49.0</td>\n",
       "      <td>NaN</td>\n",
       "      <td>NaN</td>\n",
       "      <td>https://elections.huffingtonpost.com/pollster/...</td>\n",
       "      <td>http://www.rasmussenreports.com/public_content...</td>\n",
       "      <td>Nonpartisan</td>\n",
       "      <td>None</td>\n",
       "      <td>NaN</td>\n",
       "      <td>1</td>\n",
       "    </tr>\n",
       "  </tbody>\n",
       "</table>\n",
       "</div>"
      ],
      "text/plain": [
       "                    Pollster  Start Date    End Date  Entry Date/Time (ET)  \\\n",
       "0  Politico/GWU/Battleground  2012-11-04  2012-11-05  2012-11-06T08:40:26Z   \n",
       "1           YouGov/Economist  2012-11-03  2012-11-05  2012-11-26T15:31:23Z   \n",
       "2           Gravis Marketing  2012-11-03  2012-11-05  2012-11-06T09:22:02Z   \n",
       "3                   IBD/TIPP  2012-11-03  2012-11-05  2012-11-06T08:51:48Z   \n",
       "4                  Rasmussen  2012-11-03  2012-11-05  2012-11-06T08:47:50Z   \n",
       "\n",
       "   Number of Observations     Population             Mode  Obama  Romney  \\\n",
       "0                  1000.0  Likely Voters       Live Phone   47.0    47.0   \n",
       "1                   740.0  Likely Voters         Internet   49.0    47.0   \n",
       "2                   872.0  Likely Voters  Automated Phone   48.0    48.0   \n",
       "3                   712.0  Likely Voters       Live Phone   50.0    49.0   \n",
       "4                  1500.0  Likely Voters  Automated Phone   48.0    49.0   \n",
       "\n",
       "   Undecided  Other                                       Pollster URL  \\\n",
       "0        6.0    NaN  https://elections.huffingtonpost.com/pollster/...   \n",
       "1        3.0    NaN  https://elections.huffingtonpost.com/pollster/...   \n",
       "2        4.0    NaN  https://elections.huffingtonpost.com/pollster/...   \n",
       "3        NaN    1.0  https://elections.huffingtonpost.com/pollster/...   \n",
       "4        NaN    NaN  https://elections.huffingtonpost.com/pollster/...   \n",
       "\n",
       "                                          Source URL     Partisan Affiliation  \\\n",
       "0  http://www.politico.com/news/stories/1112/8338...  Nonpartisan        None   \n",
       "1  http://cdn.yougov.com/cumulus_uploads/document...  Nonpartisan        None   \n",
       "2  http://www.gravispolls.com/2012/11/gravis-mark...  Nonpartisan        None   \n",
       "3  http://news.investors.com/special-report/50841...  Nonpartisan        None   \n",
       "4  http://www.rasmussenreports.com/public_content...  Nonpartisan        None   \n",
       "\n",
       "   Question Text  Question Iteration  \n",
       "0            NaN                   1  \n",
       "1            NaN                   1  \n",
       "2            NaN                   1  \n",
       "3            NaN                   1  \n",
       "4            NaN                   1  "
      ]
     },
     "execution_count": 20,
     "metadata": {},
     "output_type": "execute_result"
    }
   ],
   "source": [
    "#your code here\n",
    "election.head()"
   ]
  },
  {
   "cell_type": "markdown",
   "metadata": {},
   "source": [
    "How many polls were conducted in November? Define this number as M.  \n",
    "\n",
    "**Hint**: Subset the `election` DataFrame for only dates in the `Start Date` column that are in November 2012.  "
   ]
  },
  {
   "cell_type": "code",
   "execution_count": 21,
   "metadata": {},
   "outputs": [
    {
     "data": {
      "text/plain": [
       "19"
      ]
     },
     "execution_count": 21,
     "metadata": {},
     "output_type": "execute_result"
    }
   ],
   "source": [
    "#your code here\n",
    "pollsNovember = election[election['Start Date'].str.contains('2012-11')]\n",
    "M = len(pollsNovember)\n",
    "M"
   ]
  },
  {
   "cell_type": "markdown",
   "metadata": {},
   "source": [
    "Answer: 19 polls November 2012"
   ]
  },
  {
   "cell_type": "markdown",
   "metadata": {},
   "source": [
    "What was the median of the number of observations in the November polls? Define this quantity as N. "
   ]
  },
  {
   "cell_type": "code",
   "execution_count": 22,
   "metadata": {},
   "outputs": [
    {
     "data": {
      "text/plain": [
       "1200.0"
      ]
     },
     "execution_count": 22,
     "metadata": {},
     "output_type": "execute_result"
    }
   ],
   "source": [
    "#your code here\n",
    "#pollsNovember['Number of Observations'].sort_values()\n",
    "N = pollsNovember['Number of Observations'].median()\n",
    "N"
   ]
  },
  {
   "cell_type": "markdown",
   "metadata": {},
   "source": [
    "Answer: 1200"
   ]
  },
  {
   "cell_type": "markdown",
   "metadata": {},
   "source": [
    "#### Problem 2(b)\n",
    "\n",
    "Using the median sample size $N$ from Problem 2(a), simulate the results from a single poll:  simulate the number of votes for Obama out of a sample size $N$ where $p$ = 0.53 is the percent of voters who are voting for Obama.  \n",
    "\n",
    "**Hint**: Use the binomial distribution with parameters $N$ and $p$ = 0.53. <br><br>\n",
    "\n",
    "October 2020: probability mass function PMF (so probability of discrete values).  $$f(k) = {n\\choose k}p^k(1-p)^{n-k} $$ where `k` is number of successes, `n - k` the number of failures, `n` the number of independent trials and `p` the probability of success."
   ]
  },
  {
   "cell_type": "code",
   "execution_count": 23,
   "metadata": {},
   "outputs": [
    {
     "name": "stdout",
     "output_type": "stream",
     "text": [
      "Scipy.stats:  [639]\n",
      "Numpy:  [626]\n"
     ]
    }
   ],
   "source": [
    "#your code here. size is number of polls => a single poll\n",
    "p = 0.53\n",
    "# Using scipy.stats\n",
    "simulated_votes_obama = binom.rvs(size=1, n=int(N), p=0.53)\n",
    "print('Scipy.stats: ', simulated_votes_obama)\n",
    "# Using numpy. \n",
    "simulated_votes_obama = np.random.binomial(N, p, size=1)\n",
    "print('Numpy: ', simulated_votes_obama)"
   ]
  },
  {
   "cell_type": "markdown",
   "metadata": {},
   "source": [
    "Now, perform a Monte Carlo simulation to obtain the estimated percentage of Obama votes with a sample size $N$ where $N$ is the median sample size calculated in Problem 2(a). Let $p$=0.53 be the percent of voters are voting for Obama. \n",
    "\n",
    "**Hint**: You will repeat the simulation above 1,000 times and plot the distribution of the estimated *percent* of Obama votes from a single poll.  The results from the single poll you simulate is random variable and will be different every time you sample. "
   ]
  },
  {
   "cell_type": "code",
   "execution_count": 24,
   "metadata": {},
   "outputs": [
    {
     "name": "stdout",
     "output_type": "stream",
     "text": [
      "[0.5291666666666667, 0.5366666666666666, 0.49416666666666664, 0.5466666666666666, 0.5316666666666666, 0.5283333333333333]\n",
      "[0.5391666666666667, 0.5325, 0.5341666666666667, 0.5316666666666666, 0.5208333333333334, 0.5483333333333333]\n"
     ]
    }
   ],
   "source": [
    "#your code here. Size = 1000. Simulation in cell above repeated 1000 times. \n",
    "sim_scipy = [(binom.rvs(size=1, n=int(N), p=0.53)).mean()/N for i in range(1000)]\n",
    "print(sim_scipy[:6])\n",
    "sim_numpy = [(np.random.binomial(N, p, size=1)).mean()/N for i in range(1000)]\n",
    "print(sim_numpy[:6])"
   ]
  },
  {
   "cell_type": "markdown",
   "metadata": {},
   "source": [
    "Plot the distribution of the estimated percentage of Obama votes from your single poll. What is the distribution of the estimated percentage of Obama votes? "
   ]
  },
  {
   "cell_type": "code",
   "execution_count": 25,
   "metadata": {},
   "outputs": [
    {
     "data": {
      "image/png": "[encoded data removed]",
      "text/plain": [
       "<Figure size 1080x720 with 1 Axes>"
      ]
     },
     "metadata": {
      "needs_background": "light"
     },
     "output_type": "display_data"
    }
   ],
   "source": [
    "#your code here\n",
    "plt.figure(figsize=(15,10))\n",
    "plt.hist(sim_numpy, bins=100)\n",
    "plt.xlabel('Percentage votes Obama')\n",
    "plt.show()"
   ]
  },
  {
   "cell_type": "markdown",
   "metadata": {},
   "source": [
    "Answer: looks normally distributed"
   ]
  },
  {
   "cell_type": "markdown",
   "metadata": {},
   "source": [
    "What is the standard error (SE) of the estimated percentage from the poll. \n",
    "\n",
    "**Hint**: Remember the SE is the standard deviation (SD) of the distribution of a random variable. "
   ]
  },
  {
   "cell_type": "code",
   "execution_count": 26,
   "metadata": {},
   "outputs": [
    {
     "data": {
      "text/plain": [
       "0.014707535648813202"
      ]
     },
     "execution_count": 26,
     "metadata": {},
     "output_type": "execute_result"
    }
   ],
   "source": [
    "#your code here\n",
    "se1 = np.std(sim_numpy)\n",
    "se1"
   ]
  },
  {
   "cell_type": "markdown",
   "metadata": {},
   "source": [
    "#### Problem 2(c)\n",
    "\n",
    "Now suppose we run M polls where M is the number of polls that happened in November (calculated in Problem 2(a)). Run 1,000 simulations and compute the mean of the M polls for each simulation. "
   ]
  },
  {
   "cell_type": "code",
   "execution_count": 27,
   "metadata": {},
   "outputs": [
    {
     "data": {
      "text/plain": [
       "[0.5265350877192982,\n",
       " 0.5291666666666667,\n",
       " 0.5263157894736842,\n",
       " 0.5271929824561403,\n",
       " 0.5256140350877193,\n",
       " 0.5270175438596492]"
      ]
     },
     "execution_count": 27,
     "metadata": {},
     "output_type": "execute_result"
    }
   ],
   "source": [
    "#your code here\n",
    "sim_numpy = [((np.random.binomial(N, p, size=M)).mean())/N for i in range(1000)]\n",
    "sim_numpy[:6]"
   ]
  },
  {
   "cell_type": "markdown",
   "metadata": {},
   "source": [
    "What is the distribution of the average of polls?\n",
    "\n",
    "**Hint**: Show a plot. "
   ]
  },
  {
   "cell_type": "code",
   "execution_count": 28,
   "metadata": {},
   "outputs": [
    {
     "data": {
      "image/png": "[encoded data removed]",
      "text/plain": [
       "<Figure size 1080x720 with 1 Axes>"
      ]
     },
     "metadata": {
      "needs_background": "light"
     },
     "output_type": "display_data"
    }
   ],
   "source": [
    "#your code here\n",
    "plt.figure(figsize=(15,10))\n",
    "plt.hist(sim_numpy, bins=100)\n",
    "plt.xlabel('Average percentage Obama')\n",
    "plt.show()"
   ]
  },
  {
   "cell_type": "markdown",
   "metadata": {},
   "source": [
    "Answer: seems normally distributed"
   ]
  },
  {
   "cell_type": "markdown",
   "metadata": {},
   "source": [
    "What is the standard error (SE) of the average of polls? "
   ]
  },
  {
   "cell_type": "code",
   "execution_count": 29,
   "metadata": {},
   "outputs": [
    {
     "data": {
      "text/plain": [
       "0.0033708836527100304"
      ]
     },
     "execution_count": 29,
     "metadata": {},
     "output_type": "execute_result"
    }
   ],
   "source": [
    "#your code here\n",
    "seM = np.std(sim_numpy)\n",
    "seM"
   ]
  },
  {
   "cell_type": "markdown",
   "metadata": {},
   "source": [
    "Answer: standard error SE of the average of polls is ~0.00332 percentage"
   ]
  },
  {
   "cell_type": "markdown",
   "metadata": {},
   "source": [
    "Is the SE of the average of polls larger, the same, or smaller than that the SD of a single poll (calculated in Problem 2(b))? By how much?\n",
    "\n",
    "**Hint**: Compute a ratio of the two quantities.  "
   ]
  },
  {
   "cell_type": "code",
   "execution_count": 30,
   "metadata": {},
   "outputs": [
    {
     "data": {
      "text/plain": [
       "4.363109844206293"
      ]
     },
     "execution_count": 30,
     "metadata": {},
     "output_type": "execute_result"
    }
   ],
   "source": [
    "#your code here\n",
    "se1/seM"
   ]
  },
  {
   "cell_type": "markdown",
   "metadata": {},
   "source": [
    "Answer: the standard error of one singe sample is more than 4 times the SE of the average of M polls."
   ]
  },
  {
   "cell_type": "markdown",
   "metadata": {},
   "source": [
    "#### Problem 2(d) \n",
    "\n",
    "Repeat Problem 2(c) but now record the *across poll* standard deviation in each simulation. "
   ]
  },
  {
   "cell_type": "code",
   "execution_count": 31,
   "metadata": {},
   "outputs": [
    {
     "data": {
      "text/plain": [
       "[0.014033991185235142,\n",
       " 0.011935789272546387,\n",
       " 0.013722954598694149,\n",
       " 0.014438420625221292,\n",
       " 0.012865314326187432,\n",
       " 0.017572892643595777]"
      ]
     },
     "execution_count": 31,
     "metadata": {},
     "output_type": "execute_result"
    }
   ],
   "source": [
    "#your code here\n",
    "sim_numpy = [((np.random.binomial(N, p, size=M)).std())/N for i in range(1000)]\n",
    "sim_numpy[:6]"
   ]
  },
  {
   "cell_type": "markdown",
   "metadata": {},
   "source": [
    "What is the distribution of the *across M polls* standard deviation?\n",
    "\n",
    "**Hint**: Show a plot. "
   ]
  },
  {
   "cell_type": "code",
   "execution_count": 32,
   "metadata": {},
   "outputs": [
    {
     "data": {
      "image/png": "[encoded data removed]",
      "text/plain": [
       "<Figure size 1080x720 with 1 Axes>"
      ]
     },
     "metadata": {
      "needs_background": "light"
     },
     "output_type": "display_data"
    }
   ],
   "source": [
    "#your code here\n",
    "plt.figure(figsize=(15,10))\n",
    "plt.hist(sim_numpy, bins=100)\n",
    "plt.xlabel('Across poll standard deviation Obama')\n",
    "plt.show()"
   ]
  },
  {
   "cell_type": "markdown",
   "metadata": {},
   "source": [
    "Answer: again an approximately normal distribution"
   ]
  },
  {
   "cell_type": "markdown",
   "metadata": {},
   "source": [
    "#### Problem 2(e) \n",
    "\n",
    "What is the standard deviation of M polls in our real (not simulated) 2012 presidential election data ? "
   ]
  },
  {
   "cell_type": "code",
   "execution_count": 33,
   "metadata": {},
   "outputs": [
    {
     "data": {
      "text/plain": [
       "0.010841764600337107"
      ]
     },
     "execution_count": 33,
     "metadata": {},
     "output_type": "execute_result"
    }
   ],
   "source": [
    "#your code here. Devide by 100 \n",
    "seR = pollsNovember.Obama.std()/100\n",
    "seR"
   ]
  },
  {
   "cell_type": "markdown",
   "metadata": {},
   "source": [
    "Is this larger, the same, or smaller than what we expeced if polls were not biased."
   ]
  },
  {
   "cell_type": "code",
   "execution_count": 34,
   "metadata": {},
   "outputs": [
    {
     "data": {
      "text/plain": [
       "0.7792023780225026"
      ]
     },
     "execution_count": 34,
     "metadata": {},
     "output_type": "execute_result"
    }
   ],
   "source": [
    "#your code here\n",
    "seR/np.mean(sim_numpy)"
   ]
  },
  {
   "cell_type": "markdown",
   "metadata": {},
   "source": [
    "Answer: the standard error of M polls of real election data is less than expected: ~0.78 times the SE of the average of the across polls."
   ]
  },
  {
   "cell_type": "markdown",
   "metadata": {},
   "source": [
    "#### Problem 2(f)\n",
    "\n",
    "**For AC209 Students**: Learn about the normal approximation for the binomial distribution and derive the results of Problem 2(b) and 2(c) analytically (using this approximation). Compare the results obtained analytically to those obtained from simulations."
   ]
  },
  {
   "cell_type": "code",
   "execution_count": 30,
   "metadata": {},
   "outputs": [],
   "source": [
    "#your code here"
   ]
  },
  {
   "cell_type": "markdown",
   "metadata": {},
   "source": [
    "Answer: "
   ]
  },
  {
   "cell_type": "markdown",
   "metadata": {},
   "source": [
    "## Discussion for Problem 2\n",
    "\n",
    "*Write a brief discussion of your conclusions to the questions and tasks above in 100 words or less.*\n",
    "\n",
    "---\n",
    "October 2020:  CS109 - 2015 Lab3 explains an election model for the 2012 elections which was helpful in understanding some of the Problem 2 tasks. \n",
    "* using `duplicateRowsDF = pollsNovember[pollsNovember.duplicated()]` no duplicates were found\n",
    "* when simulating 1000 times, the standard deviation of a single poll is higher than the SD of M polls. \n",
    "* when simulating 1000 times, the across polls standard deviation of M polls is about 1/0.78 higher than the SD of the real November 2012 Obama polls (M) => no pollster bias\n",
    "* 2(b) besides `numpy.random.binomial()` a test using `binom.rvs` (scipy) was successfull as well\n",
    "<br><br>\n",
    "\n",
    "Remark: xrange() is deprecated in Python3"
   ]
  },
  {
   "cell_type": "markdown",
   "metadata": {},
   "source": [
    "## Problem 3: Is the average of polls better than just one poll?"
   ]
  },
  {
   "cell_type": "markdown",
   "metadata": {},
   "source": [
    "#### Problem 3(a)\n",
    "\n",
    "Most undecided voters vote for one of the two candidates at the election. Therefore, the reported percentages underestimate the final value of both candidates. However, if we assume the undecided will split evenly, then the observed difference should be an unbiased estimate of the final difference. \n",
    "\n",
    "Add a new column to the `election` DataFrame containg the difference between Obama and Romeny called `Diff`. "
   ]
  },
  {
   "cell_type": "code",
   "execution_count": 35,
   "metadata": {},
   "outputs": [
    {
     "data": {
      "text/html": [
       "<div>\n",
       "<style scoped>\n",
       "    .dataframe tbody tr th:only-of-type {\n",
       "        vertical-align: middle;\n",
       "    }\n",
       "\n",
       "    .dataframe tbody tr th {\n",
       "        vertical-align: top;\n",
       "    }\n",
       "\n",
       "    .dataframe thead th {\n",
       "        text-align: right;\n",
       "    }\n",
       "</style>\n",
       "<table border=\"1\" class=\"dataframe\">\n",
       "  <thead>\n",
       "    <tr style=\"text-align: right;\">\n",
       "      <th></th>\n",
       "      <th>Pollster</th>\n",
       "      <th>Start Date</th>\n",
       "      <th>End Date</th>\n",
       "      <th>Entry Date/Time (ET)</th>\n",
       "      <th>Number of Observations</th>\n",
       "      <th>Population</th>\n",
       "      <th>Mode</th>\n",
       "      <th>Obama</th>\n",
       "      <th>Romney</th>\n",
       "      <th>Undecided</th>\n",
       "      <th>Other</th>\n",
       "      <th>Pollster URL</th>\n",
       "      <th>Source URL</th>\n",
       "      <th>Partisan</th>\n",
       "      <th>Affiliation</th>\n",
       "      <th>Question Text</th>\n",
       "      <th>Question Iteration</th>\n",
       "      <th>Diff</th>\n",
       "    </tr>\n",
       "  </thead>\n",
       "  <tbody>\n",
       "    <tr>\n",
       "      <th>0</th>\n",
       "      <td>Politico/GWU/Battleground</td>\n",
       "      <td>2012-11-04</td>\n",
       "      <td>2012-11-05</td>\n",
       "      <td>2012-11-06T08:40:26Z</td>\n",
       "      <td>1000.0</td>\n",
       "      <td>Likely Voters</td>\n",
       "      <td>Live Phone</td>\n",
       "      <td>47.0</td>\n",
       "      <td>47.0</td>\n",
       "      <td>6.0</td>\n",
       "      <td>NaN</td>\n",
       "      <td>https://elections.huffingtonpost.com/pollster/...</td>\n",
       "      <td>http://www.politico.com/news/stories/1112/8338...</td>\n",
       "      <td>Nonpartisan</td>\n",
       "      <td>None</td>\n",
       "      <td>NaN</td>\n",
       "      <td>1</td>\n",
       "      <td>0.00</td>\n",
       "    </tr>\n",
       "    <tr>\n",
       "      <th>1</th>\n",
       "      <td>YouGov/Economist</td>\n",
       "      <td>2012-11-03</td>\n",
       "      <td>2012-11-05</td>\n",
       "      <td>2012-11-26T15:31:23Z</td>\n",
       "      <td>740.0</td>\n",
       "      <td>Likely Voters</td>\n",
       "      <td>Internet</td>\n",
       "      <td>49.0</td>\n",
       "      <td>47.0</td>\n",
       "      <td>3.0</td>\n",
       "      <td>NaN</td>\n",
       "      <td>https://elections.huffingtonpost.com/pollster/...</td>\n",
       "      <td>http://cdn.yougov.com/cumulus_uploads/document...</td>\n",
       "      <td>Nonpartisan</td>\n",
       "      <td>None</td>\n",
       "      <td>NaN</td>\n",
       "      <td>1</td>\n",
       "      <td>0.02</td>\n",
       "    </tr>\n",
       "    <tr>\n",
       "      <th>2</th>\n",
       "      <td>Gravis Marketing</td>\n",
       "      <td>2012-11-03</td>\n",
       "      <td>2012-11-05</td>\n",
       "      <td>2012-11-06T09:22:02Z</td>\n",
       "      <td>872.0</td>\n",
       "      <td>Likely Voters</td>\n",
       "      <td>Automated Phone</td>\n",
       "      <td>48.0</td>\n",
       "      <td>48.0</td>\n",
       "      <td>4.0</td>\n",
       "      <td>NaN</td>\n",
       "      <td>https://elections.huffingtonpost.com/pollster/...</td>\n",
       "      <td>http://www.gravispolls.com/2012/11/gravis-mark...</td>\n",
       "      <td>Nonpartisan</td>\n",
       "      <td>None</td>\n",
       "      <td>NaN</td>\n",
       "      <td>1</td>\n",
       "      <td>0.00</td>\n",
       "    </tr>\n",
       "    <tr>\n",
       "      <th>3</th>\n",
       "      <td>IBD/TIPP</td>\n",
       "      <td>2012-11-03</td>\n",
       "      <td>2012-11-05</td>\n",
       "      <td>2012-11-06T08:51:48Z</td>\n",
       "      <td>712.0</td>\n",
       "      <td>Likely Voters</td>\n",
       "      <td>Live Phone</td>\n",
       "      <td>50.0</td>\n",
       "      <td>49.0</td>\n",
       "      <td>NaN</td>\n",
       "      <td>1.0</td>\n",
       "      <td>https://elections.huffingtonpost.com/pollster/...</td>\n",
       "      <td>http://news.investors.com/special-report/50841...</td>\n",
       "      <td>Nonpartisan</td>\n",
       "      <td>None</td>\n",
       "      <td>NaN</td>\n",
       "      <td>1</td>\n",
       "      <td>0.01</td>\n",
       "    </tr>\n",
       "    <tr>\n",
       "      <th>4</th>\n",
       "      <td>Rasmussen</td>\n",
       "      <td>2012-11-03</td>\n",
       "      <td>2012-11-05</td>\n",
       "      <td>2012-11-06T08:47:50Z</td>\n",
       "      <td>1500.0</td>\n",
       "      <td>Likely Voters</td>\n",
       "      <td>Automated Phone</td>\n",
       "      <td>48.0</td>\n",
       "      <td>49.0</td>\n",
       "      <td>NaN</td>\n",
       "      <td>NaN</td>\n",
       "      <td>https://elections.huffingtonpost.com/pollster/...</td>\n",
       "      <td>http://www.rasmussenreports.com/public_content...</td>\n",
       "      <td>Nonpartisan</td>\n",
       "      <td>None</td>\n",
       "      <td>NaN</td>\n",
       "      <td>1</td>\n",
       "      <td>-0.01</td>\n",
       "    </tr>\n",
       "  </tbody>\n",
       "</table>\n",
       "</div>"
      ],
      "text/plain": [
       "                    Pollster  Start Date    End Date  Entry Date/Time (ET)  \\\n",
       "0  Politico/GWU/Battleground  2012-11-04  2012-11-05  2012-11-06T08:40:26Z   \n",
       "1           YouGov/Economist  2012-11-03  2012-11-05  2012-11-26T15:31:23Z   \n",
       "2           Gravis Marketing  2012-11-03  2012-11-05  2012-11-06T09:22:02Z   \n",
       "3                   IBD/TIPP  2012-11-03  2012-11-05  2012-11-06T08:51:48Z   \n",
       "4                  Rasmussen  2012-11-03  2012-11-05  2012-11-06T08:47:50Z   \n",
       "\n",
       "   Number of Observations     Population             Mode  Obama  Romney  \\\n",
       "0                  1000.0  Likely Voters       Live Phone   47.0    47.0   \n",
       "1                   740.0  Likely Voters         Internet   49.0    47.0   \n",
       "2                   872.0  Likely Voters  Automated Phone   48.0    48.0   \n",
       "3                   712.0  Likely Voters       Live Phone   50.0    49.0   \n",
       "4                  1500.0  Likely Voters  Automated Phone   48.0    49.0   \n",
       "\n",
       "   Undecided  Other                                       Pollster URL  \\\n",
       "0        6.0    NaN  https://elections.huffingtonpost.com/pollster/...   \n",
       "1        3.0    NaN  https://elections.huffingtonpost.com/pollster/...   \n",
       "2        4.0    NaN  https://elections.huffingtonpost.com/pollster/...   \n",
       "3        NaN    1.0  https://elections.huffingtonpost.com/pollster/...   \n",
       "4        NaN    NaN  https://elections.huffingtonpost.com/pollster/...   \n",
       "\n",
       "                                          Source URL     Partisan Affiliation  \\\n",
       "0  http://www.politico.com/news/stories/1112/8338...  Nonpartisan        None   \n",
       "1  http://cdn.yougov.com/cumulus_uploads/document...  Nonpartisan        None   \n",
       "2  http://www.gravispolls.com/2012/11/gravis-mark...  Nonpartisan        None   \n",
       "3  http://news.investors.com/special-report/50841...  Nonpartisan        None   \n",
       "4  http://www.rasmussenreports.com/public_content...  Nonpartisan        None   \n",
       "\n",
       "   Question Text  Question Iteration  Diff  \n",
       "0            NaN                   1  0.00  \n",
       "1            NaN                   1  0.02  \n",
       "2            NaN                   1  0.00  \n",
       "3            NaN                   1  0.01  \n",
       "4            NaN                   1 -0.01  "
      ]
     },
     "execution_count": 35,
     "metadata": {},
     "output_type": "execute_result"
    }
   ],
   "source": [
    "#your code here\n",
    "election['Diff'] = election['Obama']/100 - election['Romney']/100\n",
    "election.head()"
   ]
  },
  {
   "cell_type": "markdown",
   "metadata": {},
   "source": [
    "#### Problem 3(b)\n",
    "\n",
    "Make a plot of the differences for the week before the election (e.g. 5 days) where the days are on the x-axis and the differences are on the y-axis.  Add a horizontal line showing 3.9%: the difference between Obama and Romney on election day."
   ]
  },
  {
   "cell_type": "code",
   "execution_count": 36,
   "metadata": {},
   "outputs": [
    {
     "data": {
      "image/png": "[encoded data removed]",
      "text/plain": [
       "<Figure size 720x360 with 1 Axes>"
      ]
     },
     "metadata": {
      "needs_background": "light"
     },
     "output_type": "display_data"
    }
   ],
   "source": [
    "#your code here\n",
    "# election day 2012: 2012-11-06\n",
    "electionSub = election[(election['Start Date'] > '2012-10-28') & (election['Start Date'] < '2012-11-06')]\n",
    "colour_dict = {}\n",
    "for p in set(electionSub['Pollster']):\n",
    "    colour_dict[p] = np.random.rand(3,)\n",
    "plt.figure(figsize=(10,5))\n",
    "plt.scatter(electionSub['Start Date'], electionSub['Diff'], c=list(map(lambda x: colour_dict[x], electionSub['Pollster'])))\n",
    "plt.axhline(y = 0.039, color='r')\n",
    "plt.xlabel('Date', fontsize=15)\n",
    "plt.ylabel('Difference', fontsize=15)\n",
    "plt.show()"
   ]
  },
  {
   "cell_type": "markdown",
   "metadata": {},
   "source": [
    "#### Problem 3(c) \n",
    "\n",
    "Make a plot showing the differences by pollster where the pollsters are on the x-axis and the differences on the y-axis. "
   ]
  },
  {
   "cell_type": "code",
   "execution_count": 37,
   "metadata": {},
   "outputs": [
    {
     "data": {
      "image/png": "[encoded data removed]",
      "text/plain": [
       "<Figure size 720x360 with 1 Axes>"
      ]
     },
     "metadata": {
      "needs_background": "light"
     },
     "output_type": "display_data"
    }
   ],
   "source": [
    "pollster_dict = {}\n",
    "for i, p in enumerate(set(electionSub['Pollster'])):\n",
    "    pollster_dict[p] = i\n",
    "plt.figure(figsize=(10,5))\n",
    "plt.scatter(list(map(lambda x: pollster_dict[x], electionSub['Pollster'])), electionSub['Diff'], c=list(map(lambda x: colour_dict[x], electionSub['Pollster'])))\n",
    "plt.ylabel('Difference', fontsize=15)\n",
    "# get key (pollster name) from pollster_dict. How easy this is in Smalltalk: keyAtValue: value\n",
    "xlabels =[list(pollster_dict.keys())[list(pollster_dict.values()).index(i)] for i in range(len(pollster_dict))]\n",
    "plt.xticks(list(pollster_dict.values()), xlabels, rotation='vertical')\n",
    "plt.axhline(y = 0.039, color='r')\n",
    "plt.show()"
   ]
  },
  {
   "cell_type": "markdown",
   "metadata": {},
   "source": [
    "Is the *across poll* difference larger than the *between pollster* difference? "
   ]
  },
  {
   "cell_type": "markdown",
   "metadata": {},
   "source": [
    "Answer: quite some difference between pollsters"
   ]
  },
  {
   "cell_type": "markdown",
   "metadata": {},
   "source": [
    "#### Problem 3(d)\n",
    "\n",
    "Take the average for each pollster and then compute the average of that. Given this difference how confident would you have been of an Obama victory?\n",
    "\n",
    "**Hint**: Compute an estimate of the SE of this average based exclusively on the observed data. "
   ]
  },
  {
   "cell_type": "code",
   "execution_count": 38,
   "metadata": {},
   "outputs": [
    {
     "name": "stdout",
     "output_type": "stream",
     "text": [
      "Average of the average for each pollster 0.011818181818181818\n",
      "Standard error (SE) of the average  0.012928602412116267\n"
     ]
    }
   ],
   "source": [
    "#your code here\n",
    "avgs = electionSub.groupby('Pollster').mean()\n",
    "print('Average of the average for each pollster', avgs.Diff.mean())\n",
    "print('Standard error (SE) of the average ', np.std(avgs.Diff))"
   ]
  },
  {
   "cell_type": "markdown",
   "metadata": {},
   "source": [
    "Answer: The SE is larger than the diff in win between Obama and Romney average across the pollster averages. This makes an Obama victory uncertain."
   ]
  },
  {
   "cell_type": "markdown",
   "metadata": {},
   "source": [
    "#### Problem 3(e)\n",
    "\n",
    "**For AC209 Students**: Show the difference against time and see if you can detect a trend towards the end. Use this trend to see if it improves the final estimate."
   ]
  },
  {
   "cell_type": "code",
   "execution_count": 35,
   "metadata": {},
   "outputs": [],
   "source": [
    "#your code here"
   ]
  },
  {
   "cell_type": "markdown",
   "metadata": {},
   "source": [
    "Answer: "
   ]
  },
  {
   "cell_type": "markdown",
   "metadata": {},
   "source": [
    "## Discussion for Problem 3\n",
    "\n",
    "*Write a brief discussion of your conclusions to the questions and tasks above in 100 words or less.*\n",
    "\n",
    "---\n",
    "October 2020: one week before the elections almost all pollsters showed an Obama-Romney difference less than 3,9% on election day. "
   ]
  },
  {
   "cell_type": "markdown",
   "metadata": {},
   "source": [
    "## Problem 4\n",
    "\n",
    "In this last problem, we will use the polls from the [2014 Senate Midterm Elections](http://elections.huffingtonpost.com/pollster) from the [HuffPost Pollster API](http://elections.huffingtonpost.com/pollster/api) to create a preliminary prediction of the result of each state. \n",
    "\n",
    "The HuffPost Pollster API allows you to access the data as a CSV or a JSON response by tacking \".csv\" or \".json\" at the end of the URLs. For example the 2012 Presidential Election could be accessed as a [.json](http://elections.huffingtonpost.com/pollster/2012-general-election-romney-vs-obama.json) instead of a [.csv](http://elections.huffingtonpost.com/pollster/2012-general-election-romney-vs-obama.csv)"
   ]
  },
  {
   "cell_type": "markdown",
   "metadata": {},
   "source": [
    "#### Problem 4(a)\n",
    "\n",
    "Read in the polls for **all** of the 2014 Senate Elections using the HuffPost API. For example, we can consider the [2014 Senate race in Kentucky between Mitch McConnell and Alison Grimes](http://elections.huffingtonpost.com/pollster/2014-kentucky-senate-mcconnell-vs-grimes). \n",
    "\n",
    "To search for the 2014 Senate races, use the `topics` parameter in the API [[read more about topics here](http://elections.huffingtonpost.com/pollster/api)].  "
   ]
  },
  {
   "cell_type": "code",
   "execution_count": 39,
   "metadata": {},
   "outputs": [],
   "source": [
    "url_str = \"http://elections.huffingtonpost.com/pollster/api/charts/?topic=2014-senate\""
   ]
  },
  {
   "cell_type": "markdown",
   "metadata": {},
   "source": [
    "To list all the URLs related to the 2014 Senate races using the pollster API, we can use a list comprehension:"
   ]
  },
  {
   "cell_type": "code",
   "execution_count": 40,
   "metadata": {},
   "outputs": [
    {
     "data": {
      "text/plain": [
       "['https://elections.huffingtonpost.com/pollster/2014-delaware-senate-wade-vs-coons.csv',\n",
       " 'https://elections.huffingtonpost.com/pollster/2014-massachusetts-senate-herr-vs-markey.csv',\n",
       " 'https://elections.huffingtonpost.com/pollster/2014-rhode-island-senate-zaccaria-vs-reed.csv',\n",
       " 'https://elections.huffingtonpost.com/pollster/2014-montana-senate-daines-vs-curtis.csv',\n",
       " 'https://elections.huffingtonpost.com/pollster/2014-oklahoma-senate-lankford-vs-johnson.csv',\n",
       " 'https://elections.huffingtonpost.com/pollster/2014-hawaii-senate-cavasso-vs-schatz.csv',\n",
       " 'https://elections.huffingtonpost.com/pollster/2014-kansas-senate-roberts-vs-orman-vs-taylor.csv',\n",
       " 'https://elections.huffingtonpost.com/pollster/2014-wyoming-senate.csv',\n",
       " 'https://elections.huffingtonpost.com/pollster/2014-tennessee-senate-alexander-vs-ball.csv',\n",
       " 'https://elections.huffingtonpost.com/pollster/2014-idaho-senate-risch-vs-mitchell.csv',\n",
       " 'https://elections.huffingtonpost.com/pollster/2014-new-jersey-senate-bell-vs-booker.csv',\n",
       " 'https://elections.huffingtonpost.com/pollster/2014-new-mexico-senate-weh-vs-udall.csv',\n",
       " 'https://elections.huffingtonpost.com/pollster/2014-oklahoma-senate-inhofe-vs-silverstein.csv',\n",
       " 'https://elections.huffingtonpost.com/pollster/2014-south-carolina-senate-scott-vs-dickerson.csv',\n",
       " 'https://elections.huffingtonpost.com/pollster/2014-south-carolina-senate-graham-vs-hutto.csv',\n",
       " 'https://elections.huffingtonpost.com/pollster/2014-texas-senate-cornyn-vs-alameel.csv',\n",
       " 'https://elections.huffingtonpost.com/pollster/2014-minnesota-senate-mcfadden-vs-franken.csv',\n",
       " 'https://elections.huffingtonpost.com/pollster/2014-maine-senate-collins-vs-bellows.csv',\n",
       " 'https://elections.huffingtonpost.com/pollster/2014-south-dakota-senate-rounds-vs-weiland.csv',\n",
       " 'https://elections.huffingtonpost.com/pollster/2014-nebraska-senate-sasse-vs-domina.csv',\n",
       " 'https://elections.huffingtonpost.com/pollster/2014-georgia-senate-perdue-vs-nunn.csv',\n",
       " 'https://elections.huffingtonpost.com/pollster/2014-oregon-senate-wehby-vs-merkley.csv',\n",
       " 'https://elections.huffingtonpost.com/pollster/2014-mississippi-senate-cochran-vs-childers.csv',\n",
       " 'https://elections.huffingtonpost.com/pollster/2014-iowa-senate-ernst-vs-braley.csv',\n",
       " 'https://elections.huffingtonpost.com/pollster/2014-alaska-senate-sullivan-vs-begich.csv',\n",
       " 'https://elections.huffingtonpost.com/pollster/2014-illinois-senate-oberweis-vs-durbin.csv',\n",
       " 'https://elections.huffingtonpost.com/pollster/2014-colorado-senate-gardner-vs-udall.csv',\n",
       " 'https://elections.huffingtonpost.com/pollster/2014-virginia-senate-gillespie-vs-warner.csv',\n",
       " 'https://elections.huffingtonpost.com/pollster/2014-north-carolina-senate-tillis-vs-hagan.csv',\n",
       " 'https://elections.huffingtonpost.com/pollster/2014-new-hampshire-senate-bass-vs-shaheen.csv',\n",
       " 'https://elections.huffingtonpost.com/pollster/2014-west-virginia-senate-capito-vs-tennant.csv',\n",
       " 'https://elections.huffingtonpost.com/pollster/2014-new-hampshire-senate-brown-vs-shaheen.csv',\n",
       " 'https://elections.huffingtonpost.com/pollster/2014-louisiana-senate-cassidy-vs-landrieu.csv',\n",
       " 'https://elections.huffingtonpost.com/pollster/2014-michigan-senate-land-vs-peters.csv',\n",
       " 'https://elections.huffingtonpost.com/pollster/2014-arkansas-senate-cotton-vs-pryor.csv',\n",
       " 'https://elections.huffingtonpost.com/pollster/2014-kentucky-senate-mcconnell-vs-grimes.csv']"
      ]
     },
     "execution_count": 40,
     "metadata": {},
     "output_type": "execute_result"
    }
   ],
   "source": [
    "election_urls = [election['url'] + '.csv' for election in requests.get(url_str).json()]\n",
    "election_urls"
   ]
  },
  {
   "cell_type": "markdown",
   "metadata": {},
   "source": [
    "Because there so many Senate races, we can create a dictionary of pandas DataFrames that will be keyed by the name of the election (a string). "
   ]
  },
  {
   "cell_type": "code",
   "execution_count": 41,
   "metadata": {},
   "outputs": [],
   "source": [
    "def build_frame(url):\n",
    "    \"\"\"\n",
    "    Returns a pandas DataFrame object containing\n",
    "    the data returned from the given url\n",
    "    \"\"\"\n",
    "    source = requests.get(url).text\n",
    "    \n",
    "    # Use StringIO because pd.DataFrame.from_csv requires .read() method\n",
    "    s = StringIO(source)\n",
    "    \n",
    "    my_df=pd.read_csv(s, index_col=None)\n",
    "    return my_df\n",
    " "
   ]
  },
  {
   "cell_type": "code",
   "execution_count": 42,
   "metadata": {},
   "outputs": [],
   "source": [
    "# Makes a dictionary of pandas DataFrames keyed on election string.\n",
    "dfs = dict((election.split(\"/\")[-1][:-4], build_frame(election)) for election in election_urls)"
   ]
  },
  {
   "cell_type": "markdown",
   "metadata": {},
   "source": [
    "Show the head of the DataFrame containing the polls for the 2014 Senate race in Kentucky between McConnell and Grimes."
   ]
  },
  {
   "cell_type": "code",
   "execution_count": 43,
   "metadata": {},
   "outputs": [
    {
     "data": {
      "text/html": [
       "<div>\n",
       "<style scoped>\n",
       "    .dataframe tbody tr th:only-of-type {\n",
       "        vertical-align: middle;\n",
       "    }\n",
       "\n",
       "    .dataframe tbody tr th {\n",
       "        vertical-align: top;\n",
       "    }\n",
       "\n",
       "    .dataframe thead th {\n",
       "        text-align: right;\n",
       "    }\n",
       "</style>\n",
       "<table border=\"1\" class=\"dataframe\">\n",
       "  <thead>\n",
       "    <tr style=\"text-align: right;\">\n",
       "      <th></th>\n",
       "      <th>Pollster</th>\n",
       "      <th>Start Date</th>\n",
       "      <th>End Date</th>\n",
       "      <th>Entry Date/Time (ET)</th>\n",
       "      <th>Number of Observations</th>\n",
       "      <th>Population</th>\n",
       "      <th>Mode</th>\n",
       "      <th>Grimes</th>\n",
       "      <th>McConnell</th>\n",
       "      <th>Undecided</th>\n",
       "      <th>Pollster URL</th>\n",
       "      <th>Source URL</th>\n",
       "      <th>Partisan</th>\n",
       "      <th>Affiliation</th>\n",
       "      <th>Question Text</th>\n",
       "      <th>Question Iteration</th>\n",
       "    </tr>\n",
       "  </thead>\n",
       "  <tbody>\n",
       "    <tr>\n",
       "      <th>0</th>\n",
       "      <td>PPP (D)</td>\n",
       "      <td>2014-10-30</td>\n",
       "      <td>2014-11-01</td>\n",
       "      <td>2014-11-02T01:44:58Z</td>\n",
       "      <td>1503</td>\n",
       "      <td>Likely Voters</td>\n",
       "      <td>IVR/Online</td>\n",
       "      <td>42.0</td>\n",
       "      <td>50.0</td>\n",
       "      <td>NaN</td>\n",
       "      <td>https://elections.huffingtonpost.com/pollster/...</td>\n",
       "      <td>http://www.publicpolicypolling.com/pdf/2014/PP...</td>\n",
       "      <td>Pollster</td>\n",
       "      <td>Dem</td>\n",
       "      <td>NaN</td>\n",
       "      <td>1</td>\n",
       "    </tr>\n",
       "    <tr>\n",
       "      <th>1</th>\n",
       "      <td>NBC/Marist</td>\n",
       "      <td>2014-10-27</td>\n",
       "      <td>2014-10-30</td>\n",
       "      <td>2014-11-02T14:37:22Z</td>\n",
       "      <td>556</td>\n",
       "      <td>Likely Voters</td>\n",
       "      <td>Live Phone</td>\n",
       "      <td>41.0</td>\n",
       "      <td>50.0</td>\n",
       "      <td>3.0</td>\n",
       "      <td>https://elections.huffingtonpost.com/pollster/...</td>\n",
       "      <td>http://newscms.nbcnews.com/sites/newscms/files...</td>\n",
       "      <td>Nonpartisan</td>\n",
       "      <td>None</td>\n",
       "      <td>NaN</td>\n",
       "      <td>1</td>\n",
       "    </tr>\n",
       "    <tr>\n",
       "      <th>2</th>\n",
       "      <td>SurveyUSA/Courier-Journal/Herald-Leader/WHAS/WKYT</td>\n",
       "      <td>2014-10-25</td>\n",
       "      <td>2014-10-29</td>\n",
       "      <td>2014-10-30T23:33:59Z</td>\n",
       "      <td>597</td>\n",
       "      <td>Likely Voters</td>\n",
       "      <td>IVR/Online</td>\n",
       "      <td>43.0</td>\n",
       "      <td>48.0</td>\n",
       "      <td>6.0</td>\n",
       "      <td>https://elections.huffingtonpost.com/pollster/...</td>\n",
       "      <td>http://www.surveyusa.com/client/PollReport.asp...</td>\n",
       "      <td>Nonpartisan</td>\n",
       "      <td>None</td>\n",
       "      <td>NaN</td>\n",
       "      <td>1</td>\n",
       "    </tr>\n",
       "    <tr>\n",
       "      <th>3</th>\n",
       "      <td>POS (R-Crossroads GPS)</td>\n",
       "      <td>2014-10-25</td>\n",
       "      <td>2014-10-27</td>\n",
       "      <td>2014-10-30T20:56:18Z</td>\n",
       "      <td>600</td>\n",
       "      <td>Likely Voters</td>\n",
       "      <td>Live Phone</td>\n",
       "      <td>43.0</td>\n",
       "      <td>50.0</td>\n",
       "      <td>NaN</td>\n",
       "      <td>https://elections.huffingtonpost.com/pollster/...</td>\n",
       "      <td>https://www.crossroadsgps.org/wp-content/uploa...</td>\n",
       "      <td>Sponsor</td>\n",
       "      <td>Rep</td>\n",
       "      <td>NaN</td>\n",
       "      <td>1</td>\n",
       "    </tr>\n",
       "    <tr>\n",
       "      <th>4</th>\n",
       "      <td>CBS/NYT/YouGov</td>\n",
       "      <td>2014-10-16</td>\n",
       "      <td>2014-10-23</td>\n",
       "      <td>2014-10-26T15:00:07Z</td>\n",
       "      <td>1502</td>\n",
       "      <td>Likely Voters</td>\n",
       "      <td>Internet</td>\n",
       "      <td>39.0</td>\n",
       "      <td>45.0</td>\n",
       "      <td>14.0</td>\n",
       "      <td>https://elections.huffingtonpost.com/pollster/...</td>\n",
       "      <td>https://today.yougov.com/news/2014/09/07/battl...</td>\n",
       "      <td>Nonpartisan</td>\n",
       "      <td>None</td>\n",
       "      <td>NaN</td>\n",
       "      <td>1</td>\n",
       "    </tr>\n",
       "  </tbody>\n",
       "</table>\n",
       "</div>"
      ],
      "text/plain": [
       "                                            Pollster  Start Date    End Date  \\\n",
       "0                                            PPP (D)  2014-10-30  2014-11-01   \n",
       "1                                         NBC/Marist  2014-10-27  2014-10-30   \n",
       "2  SurveyUSA/Courier-Journal/Herald-Leader/WHAS/WKYT  2014-10-25  2014-10-29   \n",
       "3                             POS (R-Crossroads GPS)  2014-10-25  2014-10-27   \n",
       "4                                     CBS/NYT/YouGov  2014-10-16  2014-10-23   \n",
       "\n",
       "   Entry Date/Time (ET)  Number of Observations     Population        Mode  \\\n",
       "0  2014-11-02T01:44:58Z                    1503  Likely Voters  IVR/Online   \n",
       "1  2014-11-02T14:37:22Z                     556  Likely Voters  Live Phone   \n",
       "2  2014-10-30T23:33:59Z                     597  Likely Voters  IVR/Online   \n",
       "3  2014-10-30T20:56:18Z                     600  Likely Voters  Live Phone   \n",
       "4  2014-10-26T15:00:07Z                    1502  Likely Voters    Internet   \n",
       "\n",
       "   Grimes  McConnell  Undecided  \\\n",
       "0    42.0       50.0        NaN   \n",
       "1    41.0       50.0        3.0   \n",
       "2    43.0       48.0        6.0   \n",
       "3    43.0       50.0        NaN   \n",
       "4    39.0       45.0       14.0   \n",
       "\n",
       "                                        Pollster URL  \\\n",
       "0  https://elections.huffingtonpost.com/pollster/...   \n",
       "1  https://elections.huffingtonpost.com/pollster/...   \n",
       "2  https://elections.huffingtonpost.com/pollster/...   \n",
       "3  https://elections.huffingtonpost.com/pollster/...   \n",
       "4  https://elections.huffingtonpost.com/pollster/...   \n",
       "\n",
       "                                          Source URL     Partisan Affiliation  \\\n",
       "0  http://www.publicpolicypolling.com/pdf/2014/PP...     Pollster         Dem   \n",
       "1  http://newscms.nbcnews.com/sites/newscms/files...  Nonpartisan        None   \n",
       "2  http://www.surveyusa.com/client/PollReport.asp...  Nonpartisan        None   \n",
       "3  https://www.crossroadsgps.org/wp-content/uploa...      Sponsor         Rep   \n",
       "4  https://today.yougov.com/news/2014/09/07/battl...  Nonpartisan        None   \n",
       "\n",
       "   Question Text  Question Iteration  \n",
       "0            NaN                   1  \n",
       "1            NaN                   1  \n",
       "2            NaN                   1  \n",
       "3            NaN                   1  \n",
       "4            NaN                   1  "
      ]
     },
     "execution_count": 43,
     "metadata": {},
     "output_type": "execute_result"
    }
   ],
   "source": [
    "#your code here\n",
    "dfs['2014-kentucky-senate-mcconnell-vs-grimes'][:5]"
   ]
  },
  {
   "cell_type": "markdown",
   "metadata": {},
   "source": [
    "#### Problem 4(b)\n",
    "\n",
    "For each 2014 Senate race, create a preliminary prediction of the result for that state."
   ]
  },
  {
   "cell_type": "code",
   "execution_count": 44,
   "metadata": {},
   "outputs": [
    {
     "data": {
      "text/html": [
       "<div>\n",
       "<style scoped>\n",
       "    .dataframe tbody tr th:only-of-type {\n",
       "        vertical-align: middle;\n",
       "    }\n",
       "\n",
       "    .dataframe tbody tr th {\n",
       "        vertical-align: top;\n",
       "    }\n",
       "\n",
       "    .dataframe thead th {\n",
       "        text-align: right;\n",
       "    }\n",
       "</style>\n",
       "<table border=\"1\" class=\"dataframe\">\n",
       "  <thead>\n",
       "    <tr style=\"text-align: right;\">\n",
       "      <th></th>\n",
       "      <th>State</th>\n",
       "      <th>candidate1</th>\n",
       "      <th>candidate2</th>\n",
       "      <th>Diff</th>\n",
       "      <th>Winner</th>\n",
       "    </tr>\n",
       "  </thead>\n",
       "  <tbody>\n",
       "    <tr>\n",
       "      <th>0</th>\n",
       "      <td>2014-delaware-senate-wade-vs-coons</td>\n",
       "      <td>Coons</td>\n",
       "      <td>Wade</td>\n",
       "      <td>0.174000</td>\n",
       "      <td>Coons</td>\n",
       "    </tr>\n",
       "    <tr>\n",
       "      <th>1</th>\n",
       "      <td>2014-massachusetts-senate-herr-vs-markey</td>\n",
       "      <td>Markey</td>\n",
       "      <td>Herr</td>\n",
       "      <td>0.224615</td>\n",
       "      <td>Markey</td>\n",
       "    </tr>\n",
       "    <tr>\n",
       "      <th>2</th>\n",
       "      <td>2014-rhode-island-senate-zaccaria-vs-reed</td>\n",
       "      <td>Zaccaria</td>\n",
       "      <td>Reed</td>\n",
       "      <td>-0.355000</td>\n",
       "      <td>Reed</td>\n",
       "    </tr>\n",
       "    <tr>\n",
       "      <th>3</th>\n",
       "      <td>2014-montana-senate-daines-vs-curtis</td>\n",
       "      <td>Curtis</td>\n",
       "      <td>Daines</td>\n",
       "      <td>-0.171429</td>\n",
       "      <td>Daines</td>\n",
       "    </tr>\n",
       "    <tr>\n",
       "      <th>4</th>\n",
       "      <td>2014-oklahoma-senate-lankford-vs-johnson</td>\n",
       "      <td>Lankford</td>\n",
       "      <td>Johnson</td>\n",
       "      <td>0.311250</td>\n",
       "      <td>Lankford</td>\n",
       "    </tr>\n",
       "    <tr>\n",
       "      <th>5</th>\n",
       "      <td>2014-hawaii-senate-cavasso-vs-schatz</td>\n",
       "      <td>Schatz</td>\n",
       "      <td>Cavasso</td>\n",
       "      <td>0.403750</td>\n",
       "      <td>Schatz</td>\n",
       "    </tr>\n",
       "    <tr>\n",
       "      <th>6</th>\n",
       "      <td>2014-kansas-senate-roberts-vs-orman-vs-taylor</td>\n",
       "      <td>Taylor</td>\n",
       "      <td>Roberts</td>\n",
       "      <td>-0.183750</td>\n",
       "      <td>Roberts</td>\n",
       "    </tr>\n",
       "    <tr>\n",
       "      <th>7</th>\n",
       "      <td>2014-wyoming-senate</td>\n",
       "      <td>Hardy</td>\n",
       "      <td>Enzi</td>\n",
       "      <td>-0.448000</td>\n",
       "      <td>Enzi</td>\n",
       "    </tr>\n",
       "    <tr>\n",
       "      <th>8</th>\n",
       "      <td>2014-tennessee-senate-alexander-vs-ball</td>\n",
       "      <td>Alexander</td>\n",
       "      <td>Ball</td>\n",
       "      <td>0.190000</td>\n",
       "      <td>Alexander</td>\n",
       "    </tr>\n",
       "    <tr>\n",
       "      <th>9</th>\n",
       "      <td>2014-idaho-senate-risch-vs-mitchell</td>\n",
       "      <td>Risch</td>\n",
       "      <td>Mitchell</td>\n",
       "      <td>0.298333</td>\n",
       "      <td>Risch</td>\n",
       "    </tr>\n",
       "    <tr>\n",
       "      <th>10</th>\n",
       "      <td>2014-new-jersey-senate-bell-vs-booker</td>\n",
       "      <td>Bell</td>\n",
       "      <td>Booker</td>\n",
       "      <td>-0.137333</td>\n",
       "      <td>Booker</td>\n",
       "    </tr>\n",
       "    <tr>\n",
       "      <th>11</th>\n",
       "      <td>2014-new-mexico-senate-weh-vs-udall</td>\n",
       "      <td>Weh</td>\n",
       "      <td>Udall</td>\n",
       "      <td>-0.145833</td>\n",
       "      <td>Udall</td>\n",
       "    </tr>\n",
       "    <tr>\n",
       "      <th>12</th>\n",
       "      <td>2014-oklahoma-senate-inhofe-vs-silverstein</td>\n",
       "      <td>Inhofe</td>\n",
       "      <td>Silverstein</td>\n",
       "      <td>0.320000</td>\n",
       "      <td>Inhofe</td>\n",
       "    </tr>\n",
       "    <tr>\n",
       "      <th>13</th>\n",
       "      <td>2014-south-carolina-senate-scott-vs-dickerson</td>\n",
       "      <td>Dickerson</td>\n",
       "      <td>Scott</td>\n",
       "      <td>-0.215000</td>\n",
       "      <td>Scott</td>\n",
       "    </tr>\n",
       "    <tr>\n",
       "      <th>14</th>\n",
       "      <td>2014-south-carolina-senate-graham-vs-hutto</td>\n",
       "      <td>Graham</td>\n",
       "      <td>Hutto</td>\n",
       "      <td>0.150000</td>\n",
       "      <td>Graham</td>\n",
       "    </tr>\n",
       "    <tr>\n",
       "      <th>15</th>\n",
       "      <td>2014-texas-senate-cornyn-vs-alameel</td>\n",
       "      <td>Cornyn</td>\n",
       "      <td>Alameel</td>\n",
       "      <td>0.191000</td>\n",
       "      <td>Cornyn</td>\n",
       "    </tr>\n",
       "    <tr>\n",
       "      <th>16</th>\n",
       "      <td>2014-minnesota-senate-mcfadden-vs-franken</td>\n",
       "      <td>McFadden</td>\n",
       "      <td>Franken</td>\n",
       "      <td>-0.108095</td>\n",
       "      <td>Franken</td>\n",
       "    </tr>\n",
       "    <tr>\n",
       "      <th>17</th>\n",
       "      <td>2014-maine-senate-collins-vs-bellows</td>\n",
       "      <td>Collins</td>\n",
       "      <td>Bellows</td>\n",
       "      <td>0.323750</td>\n",
       "      <td>Collins</td>\n",
       "    </tr>\n",
       "    <tr>\n",
       "      <th>18</th>\n",
       "      <td>2014-south-dakota-senate-rounds-vs-weiland</td>\n",
       "      <td>Weiland</td>\n",
       "      <td>Rounds</td>\n",
       "      <td>-0.130000</td>\n",
       "      <td>Rounds</td>\n",
       "    </tr>\n",
       "    <tr>\n",
       "      <th>19</th>\n",
       "      <td>2014-nebraska-senate-sasse-vs-domina</td>\n",
       "      <td>Sasse</td>\n",
       "      <td>Domina</td>\n",
       "      <td>0.245000</td>\n",
       "      <td>Sasse</td>\n",
       "    </tr>\n",
       "    <tr>\n",
       "      <th>20</th>\n",
       "      <td>2014-georgia-senate-perdue-vs-nunn</td>\n",
       "      <td>Nunn</td>\n",
       "      <td>Perdue</td>\n",
       "      <td>-0.017451</td>\n",
       "      <td>Perdue</td>\n",
       "    </tr>\n",
       "    <tr>\n",
       "      <th>21</th>\n",
       "      <td>2014-oregon-senate-wehby-vs-merkley</td>\n",
       "      <td>Wehby</td>\n",
       "      <td>Merkley</td>\n",
       "      <td>-0.133158</td>\n",
       "      <td>Merkley</td>\n",
       "    </tr>\n",
       "    <tr>\n",
       "      <th>22</th>\n",
       "      <td>2014-mississippi-senate-cochran-vs-childers</td>\n",
       "      <td>Cochran</td>\n",
       "      <td>Childers</td>\n",
       "      <td>0.155000</td>\n",
       "      <td>Cochran</td>\n",
       "    </tr>\n",
       "    <tr>\n",
       "      <th>23</th>\n",
       "      <td>2014-iowa-senate-ernst-vs-braley</td>\n",
       "      <td>Braley</td>\n",
       "      <td>Ernst</td>\n",
       "      <td>0.000364</td>\n",
       "      <td>Braley</td>\n",
       "    </tr>\n",
       "    <tr>\n",
       "      <th>24</th>\n",
       "      <td>2014-alaska-senate-sullivan-vs-begich</td>\n",
       "      <td>Begich</td>\n",
       "      <td>Sullivan</td>\n",
       "      <td>0.002857</td>\n",
       "      <td>Begich</td>\n",
       "    </tr>\n",
       "    <tr>\n",
       "      <th>25</th>\n",
       "      <td>2014-illinois-senate-oberweis-vs-durbin</td>\n",
       "      <td>Oberweis</td>\n",
       "      <td>Durbin</td>\n",
       "      <td>-0.124000</td>\n",
       "      <td>Durbin</td>\n",
       "    </tr>\n",
       "    <tr>\n",
       "      <th>26</th>\n",
       "      <td>2014-colorado-senate-gardner-vs-udall</td>\n",
       "      <td>Gardner</td>\n",
       "      <td>Udall</td>\n",
       "      <td>0.005556</td>\n",
       "      <td>Gardner</td>\n",
       "    </tr>\n",
       "    <tr>\n",
       "      <th>27</th>\n",
       "      <td>2014-virginia-senate-gillespie-vs-warner</td>\n",
       "      <td>Warner</td>\n",
       "      <td>Gillespie</td>\n",
       "      <td>0.154545</td>\n",
       "      <td>Warner</td>\n",
       "    </tr>\n",
       "    <tr>\n",
       "      <th>28</th>\n",
       "      <td>2014-north-carolina-senate-tillis-vs-hagan</td>\n",
       "      <td>Haugh</td>\n",
       "      <td>Tillis</td>\n",
       "      <td>-0.354103</td>\n",
       "      <td>Tillis</td>\n",
       "    </tr>\n",
       "    <tr>\n",
       "      <th>29</th>\n",
       "      <td>2014-new-hampshire-senate-bass-vs-shaheen</td>\n",
       "      <td>Bass</td>\n",
       "      <td>Shaheen</td>\n",
       "      <td>-0.153333</td>\n",
       "      <td>Shaheen</td>\n",
       "    </tr>\n",
       "    <tr>\n",
       "      <th>30</th>\n",
       "      <td>2014-west-virginia-senate-capito-vs-tennant</td>\n",
       "      <td>Capito</td>\n",
       "      <td>Tennant</td>\n",
       "      <td>0.140714</td>\n",
       "      <td>Capito</td>\n",
       "    </tr>\n",
       "    <tr>\n",
       "      <th>31</th>\n",
       "      <td>2014-new-hampshire-senate-brown-vs-shaheen</td>\n",
       "      <td>Shaheen</td>\n",
       "      <td>Brown</td>\n",
       "      <td>0.053871</td>\n",
       "      <td>Shaheen</td>\n",
       "    </tr>\n",
       "    <tr>\n",
       "      <th>32</th>\n",
       "      <td>2014-louisiana-senate-cassidy-vs-landrieu</td>\n",
       "      <td>Cassidy</td>\n",
       "      <td>Landrieu</td>\n",
       "      <td>0.041250</td>\n",
       "      <td>Cassidy</td>\n",
       "    </tr>\n",
       "    <tr>\n",
       "      <th>33</th>\n",
       "      <td>2014-michigan-senate-land-vs-peters</td>\n",
       "      <td>Peters</td>\n",
       "      <td>Land</td>\n",
       "      <td>0.056119</td>\n",
       "      <td>Peters</td>\n",
       "    </tr>\n",
       "    <tr>\n",
       "      <th>34</th>\n",
       "      <td>2014-arkansas-senate-cotton-vs-pryor</td>\n",
       "      <td>Cotton</td>\n",
       "      <td>Pryor</td>\n",
       "      <td>0.015082</td>\n",
       "      <td>Cotton</td>\n",
       "    </tr>\n",
       "    <tr>\n",
       "      <th>35</th>\n",
       "      <td>2014-kentucky-senate-mcconnell-vs-grimes</td>\n",
       "      <td>Grimes</td>\n",
       "      <td>McConnell</td>\n",
       "      <td>-0.030000</td>\n",
       "      <td>McConnell</td>\n",
       "    </tr>\n",
       "  </tbody>\n",
       "</table>\n",
       "</div>"
      ],
      "text/plain": [
       "                                            State candidate1   candidate2  \\\n",
       "0              2014-delaware-senate-wade-vs-coons      Coons         Wade   \n",
       "1        2014-massachusetts-senate-herr-vs-markey     Markey         Herr   \n",
       "2       2014-rhode-island-senate-zaccaria-vs-reed   Zaccaria         Reed   \n",
       "3            2014-montana-senate-daines-vs-curtis     Curtis       Daines   \n",
       "4        2014-oklahoma-senate-lankford-vs-johnson   Lankford      Johnson   \n",
       "5            2014-hawaii-senate-cavasso-vs-schatz     Schatz      Cavasso   \n",
       "6   2014-kansas-senate-roberts-vs-orman-vs-taylor     Taylor      Roberts   \n",
       "7                             2014-wyoming-senate      Hardy         Enzi   \n",
       "8         2014-tennessee-senate-alexander-vs-ball  Alexander         Ball   \n",
       "9             2014-idaho-senate-risch-vs-mitchell      Risch     Mitchell   \n",
       "10          2014-new-jersey-senate-bell-vs-booker       Bell       Booker   \n",
       "11            2014-new-mexico-senate-weh-vs-udall        Weh        Udall   \n",
       "12     2014-oklahoma-senate-inhofe-vs-silverstein     Inhofe  Silverstein   \n",
       "13  2014-south-carolina-senate-scott-vs-dickerson  Dickerson        Scott   \n",
       "14     2014-south-carolina-senate-graham-vs-hutto     Graham        Hutto   \n",
       "15            2014-texas-senate-cornyn-vs-alameel     Cornyn      Alameel   \n",
       "16      2014-minnesota-senate-mcfadden-vs-franken   McFadden      Franken   \n",
       "17           2014-maine-senate-collins-vs-bellows    Collins      Bellows   \n",
       "18     2014-south-dakota-senate-rounds-vs-weiland    Weiland       Rounds   \n",
       "19           2014-nebraska-senate-sasse-vs-domina      Sasse       Domina   \n",
       "20             2014-georgia-senate-perdue-vs-nunn       Nunn       Perdue   \n",
       "21            2014-oregon-senate-wehby-vs-merkley      Wehby      Merkley   \n",
       "22    2014-mississippi-senate-cochran-vs-childers    Cochran     Childers   \n",
       "23               2014-iowa-senate-ernst-vs-braley     Braley        Ernst   \n",
       "24          2014-alaska-senate-sullivan-vs-begich     Begich     Sullivan   \n",
       "25        2014-illinois-senate-oberweis-vs-durbin   Oberweis       Durbin   \n",
       "26          2014-colorado-senate-gardner-vs-udall    Gardner        Udall   \n",
       "27       2014-virginia-senate-gillespie-vs-warner     Warner    Gillespie   \n",
       "28     2014-north-carolina-senate-tillis-vs-hagan      Haugh       Tillis   \n",
       "29      2014-new-hampshire-senate-bass-vs-shaheen       Bass      Shaheen   \n",
       "30    2014-west-virginia-senate-capito-vs-tennant     Capito      Tennant   \n",
       "31     2014-new-hampshire-senate-brown-vs-shaheen    Shaheen        Brown   \n",
       "32      2014-louisiana-senate-cassidy-vs-landrieu    Cassidy     Landrieu   \n",
       "33            2014-michigan-senate-land-vs-peters     Peters         Land   \n",
       "34           2014-arkansas-senate-cotton-vs-pryor     Cotton        Pryor   \n",
       "35       2014-kentucky-senate-mcconnell-vs-grimes     Grimes    McConnell   \n",
       "\n",
       "        Diff     Winner  \n",
       "0   0.174000      Coons  \n",
       "1   0.224615     Markey  \n",
       "2  -0.355000       Reed  \n",
       "3  -0.171429     Daines  \n",
       "4   0.311250   Lankford  \n",
       "5   0.403750     Schatz  \n",
       "6  -0.183750    Roberts  \n",
       "7  -0.448000       Enzi  \n",
       "8   0.190000  Alexander  \n",
       "9   0.298333      Risch  \n",
       "10 -0.137333     Booker  \n",
       "11 -0.145833      Udall  \n",
       "12  0.320000     Inhofe  \n",
       "13 -0.215000      Scott  \n",
       "14  0.150000     Graham  \n",
       "15  0.191000     Cornyn  \n",
       "16 -0.108095    Franken  \n",
       "17  0.323750    Collins  \n",
       "18 -0.130000     Rounds  \n",
       "19  0.245000      Sasse  \n",
       "20 -0.017451     Perdue  \n",
       "21 -0.133158    Merkley  \n",
       "22  0.155000    Cochran  \n",
       "23  0.000364     Braley  \n",
       "24  0.002857     Begich  \n",
       "25 -0.124000     Durbin  \n",
       "26  0.005556    Gardner  \n",
       "27  0.154545     Warner  \n",
       "28 -0.354103     Tillis  \n",
       "29 -0.153333    Shaheen  \n",
       "30  0.140714     Capito  \n",
       "31  0.053871    Shaheen  \n",
       "32  0.041250    Cassidy  \n",
       "33  0.056119     Peters  \n",
       "34  0.015082     Cotton  \n",
       "35 -0.030000  McConnell  "
      ]
     },
     "execution_count": 44,
     "metadata": {},
     "output_type": "execute_result"
    }
   ],
   "source": [
    "#your code here\n",
    "# How to tackle this one? Try the difference between the candidates (as in Problem 3)\n",
    "\n",
    "predict_list = []\n",
    "for state in dfs:\n",
    "    predict_dict =  {}\n",
    "    df = dfs[state]\n",
    "    df['Diff'] = df[df.columns[7]]/100 - df[df.columns[8]]/100\n",
    "    avgs = df['Diff'].mean()\n",
    "    predict_dict = {'State':state, 'candidate1':df.columns[7], 'candidate2':df.columns[8], 'Diff':avgs, 'Winner':df.columns[7] if avgs > 0 else df.columns[8] }\n",
    "    predict_list.append(predict_dict)\n",
    "predict_df = pd.DataFrame(predict_list) \n",
    "predict_df"
   ]
  },
  {
   "cell_type": "markdown",
   "metadata": {},
   "source": [
    "# Submission Instructions\n",
    "\n",
    "To submit your homework, create a folder named **lastname_firstinitial_hw#** and place your IPython notebooks, data files, and any other files in this folder. Your IPython Notebooks should be completely executed with the results visible in the notebook. We should not have to run any code.  Compress the folder (please use .zip compression) and submit to the CS109 dropbox in the appropriate folder. *If we cannot access your work because these directions are not followed correctly, we will not grade your work.*\n"
   ]
  },
  {
   "cell_type": "code",
   "execution_count": null,
   "metadata": {},
   "outputs": [],
   "source": []
  }
 ],
 "metadata": {
  "kernelspec": {
   "display_name": "Python 3",
   "language": "python",
   "name": "python3"
  },
  "language_info": {
   "codemirror_mode": {
    "name": "ipython",
    "version": 3
   },
   "file_extension": ".py",
   "mimetype": "text/x-python",
   "name": "python",
   "nbconvert_exporter": "python",
   "pygments_lexer": "ipython3",
   "version": "3.8.3"
  }
 },
 "nbformat": 4,
 "nbformat_minor": 1
}
