{
 "cells": [
  {
   "cell_type": "markdown",
   "metadata": {},
   "source": [
    "# Lab 11: Part 2 - Food Inspection Forecasting: Data processing\n",
    "This file is an ipython notebook with [`R-magic`](https://ipython.org/ipython-doc/1/config/extensions/rmagic.html) to convert the data from Rds (the R programming language data storage sytem) to `csv` to be read into Python. If you ever find yourself in a bind with R code available for you... give `R-magic` a try. \n",
    "\n",
    "\n",
    "## **HUGE NOTE:  All code here is taken from the [food-inspections-evaluation]( https://github.com/Chicago/food-inspections-evaluation) repository** \n",
    "### They did a great job at cleaning the data in R so I don't want to repeat work.\n",
    "\n",
    "All code and data is available on GitHub:\n",
    "https://github.com/Chicago/food-inspections-evaluation"
   ]
  },
  {
   "cell_type": "markdown",
   "metadata": {},
   "source": [
    "#### How to get R running in a Python Jupyter Notebook (Windows10)?\n",
    "**January 2021**. To get `Lab11-Project-and-Food-Inspection-Forecasting.ipynb` up and running, it was inevitable to perform this data processing part of Lab11: I couldn't circumvent it because the links to the CSV files `model_matrix.csv`, `target.csv` (outcome) and `food_inspections.csv` are not valid anymore and searching for these files on [CS109](http://cs109.github.io/2015/) and the internet was unsuccessful.<br>See below the efforts done to make this notebook working:\n",
    "- added a cell (the 1st one below) to install `rpy2` using `pip`. Gave errors executing `%load_ext rpy2.ipython`.\n",
    "- in the Anaconda prompt terminal installed `rpy2` using `conda install conda install -c r rpy2`. Installation failed but succeeded with `conda install -c conda-forge rpy2`. Gave errors executing `%load_ext rpy2.ipython` indicating entry points to procedures in DLL files could not be found. Well, all DLL files are available and accessible.\n",
    "- extended PATH variable with path to these DLL files. After Kernel restart same errors as before.\n",
    "- based on information described as a solution three additional environment vars added: R_HOME, R_LIBS_USER and R_USER. After Kernel restart still same errors as before.\n",
    "- after reading [set up R and Python in same Jupyter Notebook](https://anaconda.zendesk.com/hc/en-us/articles/360023857134-Setting-up-rpy2-on-Windows) the PATH variable was extended with some Anaconda3 paths. After Kernel restart still same errors as before.\n",
    "- thank heavens a computer restart apparently kicked some process to make `%load_ext rpy2.ipython` finally work. So actually unknown which of the above trial-and-error solutions did the trick."
   ]
  },
  {
   "cell_type": "code",
   "execution_count": null,
   "metadata": {},
   "outputs": [],
   "source": [
    "pip install rpy2"
   ]
  },
  {
   "cell_type": "code",
   "execution_count": 1,
   "metadata": {},
   "outputs": [],
   "source": [
    "import rpy2\n",
    "import pandas as pd\n",
    "%load_ext rpy2.ipython"
   ]
  },
  {
   "cell_type": "code",
   "execution_count": 7,
   "metadata": {},
   "outputs": [
    {
     "name": "stdout",
     "output_type": "stream",
     "text": [
      "The rpy2.ipython extension is already loaded. To reload it, use:\n",
      "  %reload_ext rpy2.ipython\n"
     ]
    }
   ],
   "source": [
    "%load_ext rpy2.ipython"
   ]
  },
  {
   "cell_type": "code",
   "execution_count": 39,
   "metadata": {},
   "outputs": [],
   "source": [
    "%%R\n",
    "# change to your local clone\n",
    "#data_dir = '~/food-inspections-evaluation/'\n",
    "#out_dir = '~'\n",
    "\n",
    "data_dir <- \"C:/DATA/henk/Werk/DATA SCIENCE/Harvard CS109/CS109-2015/Labs/2015lab11/data/food-inspections-evaluation\"\n",
    "out_dir <- \"C:/DATA/henk/Werk/DATA SCIENCE/Harvard CS109/CS109-2015/Labs/2015lab11/data/out\"\n",
    "\n",
    "library(\"data.table\", \"ggplot2\")\n",
    "\n",
    "setwd(data_dir)"
   ]
  },
  {
   "cell_type": "markdown",
   "metadata": {},
   "source": [
    "Just to be sure the absolute paths have been given. Package `data.table` yet had to be loaded: installation from **RStudio**: `install.packages(\"data.table\", dependencies=TRUE)`. <br> The required Rds files were downloaded from the [Chicago repository](https://github.com/Chicago/food-inspections-evaluation) to the `food-inspections-evaluation` folder. I checked out from a 2015 version."
   ]
  },
  {
   "cell_type": "markdown",
   "metadata": {},
   "source": [
    "### Food Inspection database processing"
   ]
  },
  {
   "cell_type": "code",
   "execution_count": 35,
   "metadata": {},
   "outputs": [],
   "source": [
    "%%R\n",
    "food <- readRDS('food_inspections.Rds')\n",
    "write.csv(food, file = paste(out_dir, '/food_inspections.csv', sep = ''), row.names = FALSE)"
   ]
  },
  {
   "cell_type": "markdown",
   "metadata": {},
   "source": [
    "### Model Dataframe processing"
   ]
  },
  {
   "cell_type": "code",
   "execution_count": 36,
   "metadata": {},
   "outputs": [],
   "source": [
    "%%R\n",
    "dat = readRDS('dat_model.Rds')\n",
    "write.csv(dat, file = paste(out_dir, '/dat_model.csv', sep = ''))"
   ]
  },
  {
   "cell_type": "code",
   "execution_count": 46,
   "metadata": {
    "scrolled": true
   },
   "outputs": [
    {
     "name": "stdout",
     "output_type": "stream",
     "text": [
      "Classes 'data.table' and 'data.frame':\t18712 obs. of  16 variables:\n",
      " $ Inspectorblue                              : num  0 1 1 1 1 0 0 0 0 0 ...\n",
      " $ Inspectorbrown                             : num  0 0 0 0 0 0 0 0 0 0 ...\n",
      " $ Inspectorgreen                             : num  1 0 0 0 0 0 0 0 0 0 ...\n",
      " $ Inspectororange                            : num  0 0 0 0 0 1 1 1 1 1 ...\n",
      " $ Inspectorpurple                            : num  0 0 0 0 0 0 0 0 0 0 ...\n",
      " $ Inspectoryellow                            : num  0 0 0 0 0 0 0 0 0 0 ...\n",
      " $ pastSerious                                : num  0 0 0 0 0 0 0 0 0 0 ...\n",
      " $ pastCritical                               : num  0 0 0 0 0 0 0 0 0 0 ...\n",
      " $ timeSinceLast                              : num  2 2 2 2 2 2 2 2 2 2 ...\n",
      " $ ageAtInspection                            : num  1 1 1 1 1 1 0 1 1 0 ...\n",
      " $ consumption_on_premises_incidental_activity: num  0 0 0 0 0 0 0 0 0 0 ...\n",
      " $ tobacco_retail_over_counter                : num  1 0 0 0 0 0 0 0 0 0 ...\n",
      " $ temperatureMax                             : num  53.5 59 59 56.2 52.7 ...\n",
      " $ heat_burglary                              : num  26.99 13.98 12.61 35.91 9.53 ...\n",
      " $ heat_sanitation                            : num  37.75 15.41 8.32 38.19 2.13 ...\n",
      " $ heat_garbage                               : num  12.8 12.9 8 26.2 3.4 ...\n",
      " - attr(*, \".internal.selfref\")=<externalptr> \n",
      "[1] 18712\n"
     ]
    }
   ],
   "source": [
    "%%R\n",
    "dat <- readRDS(\"dat_model.Rds\")\n",
    "\n",
    "## Only keep \"Retail Food Establishment\"\n",
    "dat <- dat[LICENSE_DESCRIPTION == \"Retail Food Establishment\"]\n",
    "## Remove License Description\n",
    "dat$LICENSE_DESCRIPTION <- NULL\n",
    "dat <- na.omit(dat)\n",
    "\n",
    "## Add criticalFound variable to dat:\n",
    "dat$criticalFound <- pmin(1, dat$criticalCount)\n",
    "\n",
    "# ## Set the key for dat\n",
    "setkey(dat, Inspection_ID)\n",
    "\n",
    "# Match time period of original results\n",
    "# dat <- dat[Inspection_Date < \"2013-09-01\" | Inspection_Date > \"2014-07-01\"]\n",
    "\n",
    "#==============================================================================\n",
    "# CREATE MODEL DATA\n",
    "#==============================================================================\n",
    "# sort(colnames(dat))\n",
    "\n",
    "xmat <- dat[ , list(Inspector = Inspector_Assigned,\n",
    "                    pastSerious = pmin(pastSerious, 1),\n",
    "                    pastCritical = pmin(pastCritical, 1),\n",
    "                    timeSinceLast,\n",
    "                    ageAtInspection = ifelse(ageAtInspection > 4, 1L, 0L),\n",
    "                    consumption_on_premises_incidental_activity,\n",
    "                    tobacco_retail_over_counter,\n",
    "                    temperatureMax,\n",
    "                    heat_burglary = pmin(heat_burglary, 70),\n",
    "                    heat_sanitation = pmin(heat_sanitation, 70),\n",
    "                    heat_garbage = pmin(heat_garbage, 50),\n",
    "                    # Facility_Type,\n",
    "                    criticalFound),\n",
    "            keyby = Inspection_ID]\n",
    "mm <- model.matrix(criticalFound ~ . -1, data=xmat[ , -1, with=F])\n",
    "mm <- as.data.table(mm)\n",
    "str(mm)\n",
    "colnames(mm)\n",
    "\n",
    "#==============================================================================\n",
    "# CREATE TEST / TRAIN PARTITIONS\n",
    "#==============================================================================\n",
    "# 2014-07-01 is an easy separator\n",
    "\n",
    "dat[Inspection_Date < \"2014-07-01\", range(Inspection_Date)]\n",
    "dat[Inspection_Date > \"2014-07-01\", range(Inspection_Date)]\n",
    "\n",
    "iiTrain <- dat[ , which(Inspection_Date < \"2014-07-01\")]\n",
    "iiTest <- dat[ , which(Inspection_Date > \"2014-07-01\")]\n",
    "\n",
    "## Check to see if any rows didn't make it through the model.matrix formula\n",
    "nrow(dat)\n",
    "nrow(xmat)\n",
    "nrow(mm)\n"
   ]
  },
  {
   "cell_type": "code",
   "execution_count": 47,
   "metadata": {},
   "outputs": [],
   "source": [
    "%%R\n",
    "# Output Model Matrix and Target\n",
    "write.csv(mm, file = paste(out_dir, '/model_matrix.csv', sep = ''), row.names = FALSE)\n",
    "write.csv(xmat$criticalFound, file = paste(out_dir, '/TARGET.csv', sep = ''), row.names = FALSE)"
   ]
  }
 ],
 "metadata": {
  "kernelspec": {
   "display_name": "Python 3",
   "language": "python",
   "name": "python3"
  },
  "language_info": {
   "codemirror_mode": {
    "name": "ipython",
    "version": 3
   },
   "file_extension": ".py",
   "mimetype": "text/x-python",
   "name": "python",
   "nbconvert_exporter": "python",
   "pygments_lexer": "ipython3",
   "version": "3.8.3"
  }
 },
 "nbformat": 4,
 "nbformat_minor": 1
}
